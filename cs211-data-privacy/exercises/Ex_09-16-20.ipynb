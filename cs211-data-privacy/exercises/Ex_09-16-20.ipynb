{
 "cells": [
  {
   "cell_type": "markdown",
   "metadata": {},
   "source": [
    "# CS211: Data Privacy\n",
    "## In-Class Exercise, 9/16/2020"
   ]
  },
  {
   "cell_type": "code",
   "execution_count": 1,
   "metadata": {},
   "outputs": [],
   "source": [
    "# Load the data and libraries\n",
    "import pandas as pd\n",
    "import numpy as np\n",
    "from scipy import stats\n",
    "import matplotlib.pyplot as plt\n",
    "plt.style.use('seaborn-whitegrid')\n",
    "\n",
    "# adult = pd.read_csv('https://github.com/jnear/cs211-data-privacy/raw/master/homework/adult_with_pii.csv')"
   ]
  },
  {
   "cell_type": "markdown",
   "metadata": {},
   "source": [
    "## Question 1\n",
    "\n",
    "Implement a function to construct an *empirical distribution* over random samples from the Laplace distribution with location 0 and scale `scale`. Use 1000 samples."
   ]
  },
  {
   "cell_type": "code",
   "execution_count": 3,
   "metadata": {
    "deletable": false,
    "nbgrader": {
     "cell_type": "code",
     "checksum": "36e271e39d3b9efb374514de6b58c769",
     "grade": false,
     "grade_id": "cell-e7ddf0e4b195dfdc",
     "locked": false,
     "schema_version": 3,
     "solution": true,
     "task": false
    }
   },
   "outputs": [
    {
     "data": {
      "image/png": "[encoded data removed]",
      "text/plain": [
       "<Figure size 432x288 with 1 Axes>"
      ]
     },
     "metadata": {
      "needs_background": "light"
     },
     "output_type": "display_data"
    }
   ],
   "source": [
    "def empirical_dist_lap(scale):\n",
    "    values = [np.random.laplace(loc=0, scale=scale) for _ in range(1000)]\n",
    "    return values\n",
    "\n",
    "epsilon1 = 1.0 #gives better privacy\n",
    "epsilon2 = 2.0\n",
    "\n",
    "plt.hist(empirical_dist_lap(1/epsilon1), bins=50);\n",
    "plt.hist(empirical_dist_lap(1/epsilon2), bins=50, alpha=.7);"
   ]
  },
  {
   "cell_type": "code",
   "execution_count": null,
   "metadata": {
    "deletable": false,
    "editable": false,
    "nbgrader": {
     "cell_type": "code",
     "checksum": "4ae51dc3beb1b2d1b08e84aad405fa17",
     "grade": true,
     "grade_id": "cell-e68891bb70939fd0",
     "locked": true,
     "points": 5,
     "schema_version": 3,
     "solution": false,
     "task": false
    }
   },
   "outputs": [],
   "source": [
    "# PLACEHOLDER for test cases\n"
   ]
  },
  {
   "cell_type": "markdown",
   "metadata": {},
   "source": [
    "## Question 2\n",
    "\n",
    "Consider the program below."
   ]
  },
  {
   "cell_type": "code",
   "execution_count": 4,
   "metadata": {},
   "outputs": [
    {
     "name": "stdout",
     "output_type": "stream",
     "text": [
      "1.9921347964008203 0.8762348045266686 2.414792627443089\n"
     ]
    }
   ],
   "source": [
    "counting_query = lambda: 1\n",
    "\n",
    "result_1 = counting_query() + np.random.laplace(loc=0, scale=1/epsilon1)\n",
    "result_2 = counting_query() + np.random.laplace(loc=0, scale=1/epsilon2)\n",
    "result_3 = counting_query() + np.random.laplace(loc=0, scale=1/epsilon1)\n",
    "\n",
    "print(result_1, result_2, result_3)"
   ]
  },
  {
   "cell_type": "markdown",
   "metadata": {},
   "source": [
    "Write a function `total_epsilon` that returns the total privacy cost for this program."
   ]
  },
  {
   "cell_type": "code",
   "execution_count": 6,
   "metadata": {
    "deletable": false,
    "nbgrader": {
     "cell_type": "code",
     "checksum": "acf2948c80694922d54ad353bd5dfce3",
     "grade": false,
     "grade_id": "cell-32b1cdb0a2990e8f",
     "locked": false,
     "schema_version": 3,
     "solution": true,
     "task": false
    }
   },
   "outputs": [
    {
     "data": {
      "text/plain": [
       "4.0"
      ]
     },
     "execution_count": 6,
     "metadata": {},
     "output_type": "execute_result"
    }
   ],
   "source": [
    "def total_epsilon():\n",
    "    return epsilon1 + epsilon2 + epsilon1\n",
    "\n",
    "total_epsilon()"
   ]
  },
  {
   "cell_type": "code",
   "execution_count": null,
   "metadata": {
    "deletable": false,
    "editable": false,
    "nbgrader": {
     "cell_type": "code",
     "checksum": "77f0d3f25290c6a4d64e9fed5fdb91fe",
     "grade": true,
     "grade_id": "cell-e484920fc1429ad0",
     "locked": true,
     "points": 5,
     "schema_version": 3,
     "solution": false,
     "task": false
    }
   },
   "outputs": [],
   "source": [
    "# Placeholder for test case\n"
   ]
  }
 ],
 "metadata": {
  "kernelspec": {
   "display_name": "Python 3",
   "language": "python",
   "name": "python3"
  },
  "language_info": {
   "codemirror_mode": {
    "name": "ipython",
    "version": 3
   },
   "file_extension": ".py",
   "mimetype": "text/x-python",
   "name": "python",
   "nbconvert_exporter": "python",
   "pygments_lexer": "ipython3",
   "version": "3.7.4"
  }
 },
 "nbformat": 4,
 "nbformat_minor": 4
}
