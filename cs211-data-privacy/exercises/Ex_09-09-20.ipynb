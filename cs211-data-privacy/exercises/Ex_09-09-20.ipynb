{
 "cells": [
  {
   "cell_type": "markdown",
   "metadata": {},
   "source": [
    "# CS211: Data Privacy\n",
    "## In-Class Exercise, 9/2/2020"
   ]
  },
  {
   "cell_type": "code",
   "execution_count": 1,
   "metadata": {},
   "outputs": [
    {
     "data": {
      "text/html": [
       "<div>\n",
       "<style scoped>\n",
       "    .dataframe tbody tr th:only-of-type {\n",
       "        vertical-align: middle;\n",
       "    }\n",
       "\n",
       "    .dataframe tbody tr th {\n",
       "        vertical-align: top;\n",
       "    }\n",
       "\n",
       "    .dataframe thead th {\n",
       "        text-align: right;\n",
       "    }\n",
       "</style>\n",
       "<table border=\"1\" class=\"dataframe\">\n",
       "  <thead>\n",
       "    <tr style=\"text-align: right;\">\n",
       "      <th></th>\n",
       "      <th>Name</th>\n",
       "      <th>Age</th>\n",
       "      <th>Gender</th>\n",
       "      <th>State of domicile</th>\n",
       "      <th>Religion</th>\n",
       "      <th>Disease</th>\n",
       "    </tr>\n",
       "  </thead>\n",
       "  <tbody>\n",
       "    <tr>\n",
       "      <td>0</td>\n",
       "      <td>Ramsha</td>\n",
       "      <td>30</td>\n",
       "      <td>Female</td>\n",
       "      <td>Tamil Nadu</td>\n",
       "      <td>Hindu</td>\n",
       "      <td>Cancer</td>\n",
       "    </tr>\n",
       "    <tr>\n",
       "      <td>1</td>\n",
       "      <td>Yadu</td>\n",
       "      <td>24</td>\n",
       "      <td>Female</td>\n",
       "      <td>Kerala</td>\n",
       "      <td>Hindu</td>\n",
       "      <td>Viral infection</td>\n",
       "    </tr>\n",
       "    <tr>\n",
       "      <td>2</td>\n",
       "      <td>Salima</td>\n",
       "      <td>28</td>\n",
       "      <td>Female</td>\n",
       "      <td>Tamil Nadu</td>\n",
       "      <td>Muslim</td>\n",
       "      <td>TB</td>\n",
       "    </tr>\n",
       "    <tr>\n",
       "      <td>3</td>\n",
       "      <td>Sunny</td>\n",
       "      <td>27</td>\n",
       "      <td>Male</td>\n",
       "      <td>Karnataka</td>\n",
       "      <td>Parsi</td>\n",
       "      <td>No illness</td>\n",
       "    </tr>\n",
       "    <tr>\n",
       "      <td>4</td>\n",
       "      <td>Joan</td>\n",
       "      <td>24</td>\n",
       "      <td>Female</td>\n",
       "      <td>Kerala</td>\n",
       "      <td>Christian</td>\n",
       "      <td>Heart-related</td>\n",
       "    </tr>\n",
       "    <tr>\n",
       "      <td>5</td>\n",
       "      <td>Bahuksana</td>\n",
       "      <td>23</td>\n",
       "      <td>Male</td>\n",
       "      <td>Karnataka</td>\n",
       "      <td>Buddhist</td>\n",
       "      <td>TB</td>\n",
       "    </tr>\n",
       "    <tr>\n",
       "      <td>6</td>\n",
       "      <td>Rambha</td>\n",
       "      <td>19</td>\n",
       "      <td>Male</td>\n",
       "      <td>Kerala</td>\n",
       "      <td>Hindu</td>\n",
       "      <td>Cancer</td>\n",
       "    </tr>\n",
       "    <tr>\n",
       "      <td>7</td>\n",
       "      <td>Kishor</td>\n",
       "      <td>29</td>\n",
       "      <td>Male</td>\n",
       "      <td>Karnataka</td>\n",
       "      <td>Hindu</td>\n",
       "      <td>Heart-related</td>\n",
       "    </tr>\n",
       "    <tr>\n",
       "      <td>8</td>\n",
       "      <td>Johnson</td>\n",
       "      <td>17</td>\n",
       "      <td>Male</td>\n",
       "      <td>Kerala</td>\n",
       "      <td>Christian</td>\n",
       "      <td>Heart-related</td>\n",
       "    </tr>\n",
       "    <tr>\n",
       "      <td>9</td>\n",
       "      <td>John</td>\n",
       "      <td>19</td>\n",
       "      <td>Male</td>\n",
       "      <td>Kerala</td>\n",
       "      <td>Christian</td>\n",
       "      <td>Viral infection</td>\n",
       "    </tr>\n",
       "  </tbody>\n",
       "</table>\n",
       "</div>"
      ],
      "text/plain": [
       "        Name Age  Gender State of domicile   Religion          Disease\n",
       "0     Ramsha  30  Female        Tamil Nadu      Hindu           Cancer\n",
       "1       Yadu  24  Female            Kerala      Hindu  Viral infection\n",
       "2     Salima  28  Female        Tamil Nadu     Muslim               TB\n",
       "3      Sunny  27    Male         Karnataka      Parsi       No illness\n",
       "4       Joan  24  Female            Kerala  Christian    Heart-related\n",
       "5  Bahuksana  23    Male         Karnataka   Buddhist               TB\n",
       "6     Rambha  19    Male            Kerala      Hindu           Cancer\n",
       "7     Kishor  29    Male         Karnataka      Hindu    Heart-related\n",
       "8    Johnson  17    Male            Kerala  Christian    Heart-related\n",
       "9       John  19    Male            Kerala  Christian  Viral infection"
      ]
     },
     "execution_count": 1,
     "metadata": {},
     "output_type": "execute_result"
    }
   ],
   "source": [
    "# Load the data and libraries\n",
    "import pandas as pd\n",
    "import numpy as np\n",
    "\n",
    "cols = ['Name', 'Age', 'Gender', 'State of domicile', 'Religion', 'Disease']\n",
    "rows = [['Ramsha', '30', 'Female', 'Tamil Nadu', 'Hindu', 'Cancer'],\n",
    "    ['Yadu', '24', 'Female', 'Kerala', 'Hindu', 'Viral infection'],\n",
    "    ['Salima', '28', 'Female', 'Tamil Nadu', 'Muslim', 'TB'],\n",
    "    ['Sunny', '27', 'Male', 'Karnataka', 'Parsi', 'No illness'],\n",
    "    ['Joan', '24', 'Female', 'Kerala', 'Christian', 'Heart-related'],\n",
    "    ['Bahuksana', '23', 'Male', 'Karnataka', 'Buddhist', 'TB'],\n",
    "    ['Rambha', '19', 'Male', 'Kerala', 'Hindu', 'Cancer'],\n",
    "    ['Kishor', '29', 'Male', 'Karnataka', 'Hindu', 'Heart-related'],\n",
    "    ['Johnson', '17', 'Male', 'Kerala', 'Christian', 'Heart-related'],\n",
    "    ['John', '19', 'Male', 'Kerala', 'Christian', 'Viral infection']]\n",
    "\n",
    "df = pd.DataFrame(rows, columns = cols) \n",
    "df"
   ]
  },
  {
   "cell_type": "markdown",
   "metadata": {},
   "source": [
    "## Question 1 (5 points)\n",
    "\n",
    "Does the dataset `df` satisfy $k$-Anonymity for $k=3$? Why not?"
   ]
  },
  {
   "cell_type": "markdown",
   "metadata": {
    "deletable": false,
    "nbgrader": {
     "cell_type": "markdown",
     "checksum": "c61aa8062b9dfebcfcc33281136fd17f",
     "grade": true,
     "grade_id": "cell-a9793d100ba20894",
     "locked": false,
     "points": 5,
     "schema_version": 3,
     "solution": true,
     "task": false
    }
   },
   "source": [
    "no, everyone has a unique name. "
   ]
  },
  {
   "cell_type": "markdown",
   "metadata": {},
   "source": [
    "## Question 2 (5 points)\n",
    "\n",
    "What columns should we designate as quasi-identifiers in the dataset `df`, and why?"
   ]
  },
  {
   "cell_type": "markdown",
   "metadata": {
    "deletable": false,
    "nbgrader": {
     "cell_type": "markdown",
     "checksum": "533486216e9001e1b8e8c2af7b1ceff0",
     "grade": true,
     "grade_id": "cell-5cfd666564429892",
     "locked": false,
     "points": 5,
     "schema_version": 3,
     "solution": true,
     "task": false
    }
   },
   "source": [
    "name, age, gender, state of domicile, religion. each could be used as identifying information."
   ]
  },
  {
   "cell_type": "markdown",
   "metadata": {},
   "source": [
    "## Question 3 (5 points)\n",
    "\n",
    "Imagine the column `Disease` is *not* a quasi-identifier, and we generalize the dataset to achieve $k$-Anonymity for $k=2$. For which rows is a homogeneity attack possible, and why?"
   ]
  },
  {
   "cell_type": "markdown",
   "metadata": {
    "deletable": false,
    "nbgrader": {
     "cell_type": "markdown",
     "checksum": "cf4facb2adda1e9a3e769bc994597e64",
     "grade": true,
     "grade_id": "cell-5932f02f09b5cacb",
     "locked": false,
     "points": 5,
     "schema_version": 3,
     "solution": true,
     "task": false
    }
   },
   "source": [
    "heart related, cancer, TB, viral infection, as there are multiple occurances of these. "
   ]
  },
  {
   "cell_type": "markdown",
   "metadata": {},
   "source": [
    "## Question 4 (5 points)\n",
    "\n",
    "How could we generalize the column `Age` to achieve $k$-Anonymity for $k=3$?"
   ]
  },
  {
   "cell_type": "markdown",
   "metadata": {
    "deletable": false,
    "nbgrader": {
     "cell_type": "markdown",
     "checksum": "e12830ea31ed2c7d1f7a46390d4aabc4",
     "grade": true,
     "grade_id": "cell-58e8ca844b2373b4",
     "locked": false,
     "points": 5,
     "schema_version": 3,
     "solution": true,
     "task": false
    }
   },
   "source": [
    "generalize to \"under 20\" and \"over 20\""
   ]
  },
  {
   "cell_type": "code",
   "execution_count": null,
   "metadata": {},
   "outputs": [],
   "source": []
  }
 ],
 "metadata": {
  "kernelspec": {
   "display_name": "Python 3",
   "language": "python",
   "name": "python3"
  },
  "language_info": {
   "codemirror_mode": {
    "name": "ipython",
    "version": 3
   },
   "file_extension": ".py",
   "mimetype": "text/x-python",
   "name": "python",
   "nbconvert_exporter": "python",
   "pygments_lexer": "ipython3",
   "version": "3.7.4"
  }
 },
 "nbformat": 4,
 "nbformat_minor": 4
}
