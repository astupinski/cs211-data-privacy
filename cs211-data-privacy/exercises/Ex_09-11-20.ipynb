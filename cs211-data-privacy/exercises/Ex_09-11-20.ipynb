{
 "cells": [
  {
   "cell_type": "markdown",
   "metadata": {},
   "source": [
    "# CS211: Data Privacy\n",
    "## In-Class Exercise, 9/11/2020"
   ]
  },
  {
   "cell_type": "code",
   "execution_count": 1,
   "metadata": {},
   "outputs": [],
   "source": [
    "# Load the data and libraries\n",
    "import pandas as pd\n",
    "import numpy as np\n",
    "\n",
    "adult = pd.read_csv('https://github.com/jnear/cs211-data-privacy/raw/master/homework/adult_with_pii.csv')"
   ]
  },
  {
   "cell_type": "markdown",
   "metadata": {},
   "source": [
    "## Question 1\n",
    "\n",
    "Write code to check if a dataframe satisfies $k$-Anonymity for a given $k$."
   ]
  },
  {
   "cell_type": "code",
   "execution_count": 4,
   "metadata": {
    "deletable": false,
    "nbgrader": {
     "cell_type": "code",
     "checksum": "7e508e5db3c4f726055d8fbfdf886457",
     "grade": false,
     "grade_id": "cell-c2f5da8fc63eb982",
     "locked": false,
     "schema_version": 3,
     "solution": true,
     "task": false
    }
   },
   "outputs": [],
   "source": [
    "def isKAnonymized(df, k):\n",
    "    for index, row in df.iterrows():\n",
    "        query = ' & '.join([f'`{col}` == \"{row[col]}\"' for col in df.columns])\n",
    "        rows = df.query(query)\n",
    "        if (rows.shape[0] < k):\n",
    "            return False\n",
    "    return True\n"
   ]
  },
  {
   "cell_type": "code",
   "execution_count": 5,
   "metadata": {
    "deletable": false,
    "editable": false,
    "nbgrader": {
     "cell_type": "code",
     "checksum": "f7d38cc40d1f0e1c9449fe791cb7b69f",
     "grade": true,
     "grade_id": "cell-dfebf0863cfc1459",
     "locked": true,
     "points": 5,
     "schema_version": 3,
     "solution": false,
     "task": false
    }
   },
   "outputs": [],
   "source": [
    "# Test cases for question 1\n",
    "\n",
    "df1 = adult[['Education']].dropna()\n",
    "assert isKAnonymized(df1[:1000], 3) == False\n",
    "assert isKAnonymized(df1[:1000], 2) == True\n",
    "assert isKAnonymized(df1[:1000], 1) == True\n",
    "\n",
    "df2 = adult[['Zip', 'Education']].dropna()\n",
    "assert isKAnonymized(df2[:1000], 3) == False\n",
    "assert isKAnonymized(df2[:1000], 2) == False\n",
    "assert isKAnonymized(df2[:1000], 1) == True"
   ]
  },
  {
   "cell_type": "markdown",
   "metadata": {},
   "source": [
    "## Question 2\n",
    "\n",
    "What is the time complexity of the algorithm in Question 1?"
   ]
  },
  {
   "cell_type": "markdown",
   "metadata": {
    "deletable": false,
    "nbgrader": {
     "cell_type": "markdown",
     "checksum": "4bb167cf19071f02404da74ee942c96b",
     "grade": true,
     "grade_id": "cell-2b613e79c39137ae",
     "locked": false,
     "points": 5,
     "schema_version": 3,
     "solution": true,
     "task": false
    }
   },
   "source": [
    "quadratic"
   ]
  },
  {
   "cell_type": "markdown",
   "metadata": {},
   "source": [
    "## Question 3\n",
    "\n",
    "Write code to generalize the `Zip` column in the adult dataset."
   ]
  },
  {
   "cell_type": "code",
   "execution_count": 6,
   "metadata": {
    "deletable": false,
    "nbgrader": {
     "cell_type": "code",
     "checksum": "ae1bd87895a7b5a030e010032949c5f6",
     "grade": false,
     "grade_id": "cell-be9a4264a0e58938",
     "locked": false,
     "schema_version": 3,
     "solution": true,
     "task": false
    }
   },
   "outputs": [],
   "source": [
    "def generalize_zip(zip, l):\n",
    "    n = 10**l\n",
    "    return int(zip / n) * n"
   ]
  },
  {
   "cell_type": "code",
   "execution_count": 7,
   "metadata": {
    "deletable": false,
    "editable": false,
    "nbgrader": {
     "cell_type": "code",
     "checksum": "f7a6b98d4018928f1dffda7e0b52897c",
     "grade": true,
     "grade_id": "cell-256688fe78b8f7bf",
     "locked": true,
     "points": 5,
     "schema_version": 3,
     "solution": false,
     "task": false
    }
   },
   "outputs": [],
   "source": [
    "# Test cases for question 3\n",
    "assert generalize_zip(47401, 0) == 47401\n",
    "assert generalize_zip(47401, 1) == 47400\n",
    "assert generalize_zip(47401, 2) == 47400\n",
    "assert generalize_zip(47401, 3) == 47000\n",
    "assert generalize_zip(47401, 4) == 40000\n",
    "assert generalize_zip(47401, 5) == 0"
   ]
  },
  {
   "cell_type": "code",
   "execution_count": null,
   "metadata": {},
   "outputs": [],
   "source": []
  }
 ],
 "metadata": {
  "kernelspec": {
   "display_name": "Python 3",
   "language": "python",
   "name": "python3"
  },
  "language_info": {
   "codemirror_mode": {
    "name": "ipython",
    "version": 3
   },
   "file_extension": ".py",
   "mimetype": "text/x-python",
   "name": "python",
   "nbconvert_exporter": "python",
   "pygments_lexer": "ipython3",
   "version": "3.7.4"
  }
 },
 "nbformat": 4,
 "nbformat_minor": 4
}
