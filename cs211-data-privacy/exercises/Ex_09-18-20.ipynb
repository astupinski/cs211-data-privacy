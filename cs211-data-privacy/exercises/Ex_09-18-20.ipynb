{
 "cells": [
  {
   "cell_type": "markdown",
   "metadata": {},
   "source": [
    "# CS211: Data Privacy\n",
    "## In-Class Exercise, 9/18/2020"
   ]
  },
  {
   "cell_type": "code",
   "execution_count": 2,
   "metadata": {},
   "outputs": [],
   "source": [
    "# Load the data and libraries\n",
    "import pandas as pd\n",
    "import numpy as np\n",
    "from scipy import stats\n",
    "import matplotlib.pyplot as plt\n",
    "plt.style.use('seaborn-whitegrid')\n",
    "\n",
    "adult = pd.read_csv('https://github.com/jnear/cs211-data-privacy/raw/master/homework/adult_with_pii.csv')"
   ]
  },
  {
   "cell_type": "markdown",
   "metadata": {},
   "source": [
    "## Question 1\n",
    "\n",
    "Implement the Laplace mechanism below."
   ]
  },
  {
   "cell_type": "code",
   "execution_count": 3,
   "metadata": {
    "deletable": false,
    "nbgrader": {
     "cell_type": "code",
     "checksum": "d0a62ab566a1db45cf1dd2f3aa79384d",
     "grade": false,
     "grade_id": "cell-9f17a2616172b172",
     "locked": false,
     "schema_version": 3,
     "solution": true,
     "task": false
    }
   },
   "outputs": [],
   "source": [
    "def laplace_mech(v, sensitivity, epsilon):\n",
    "    return v + np.random.laplace(loc=0, scale=sensitivity/epsilon)"
   ]
  },
  {
   "cell_type": "code",
   "execution_count": 4,
   "metadata": {
    "deletable": false,
    "editable": false,
    "nbgrader": {
     "cell_type": "code",
     "checksum": "2545cadb169227b7ccea2d13122cdc24",
     "grade": true,
     "grade_id": "cell-cae8dc00eebe8255",
     "locked": true,
     "points": 5,
     "schema_version": 3,
     "solution": false,
     "task": false
    }
   },
   "outputs": [],
   "source": [
    "# TEST CASE for question 1\n",
    "dist1 = [laplace_mech(50, 1, 1.0) for _ in range(200)]\n",
    "dist2 = [np.random.laplace(loc=50, scale=1) for _ in range(200)]\n",
    "\n",
    "assert stats.wasserstein_distance(dist1, dist2) < 1"
   ]
  },
  {
   "cell_type": "markdown",
   "metadata": {},
   "source": [
    "## Question 2\n",
    "\n"
   ]
  },
  {
   "cell_type": "code",
   "execution_count": 5,
   "metadata": {
    "deletable": false,
    "nbgrader": {
     "cell_type": "code",
     "checksum": "60c406d55d15773e9f71638c6834ac41",
     "grade": false,
     "grade_id": "cell-9439553739156776",
     "locked": false,
     "schema_version": 3,
     "solution": true,
     "task": false
    }
   },
   "outputs": [
    {
     "name": "stdout",
     "output_type": "stream",
     "text": [
      "true answer: 21989\n"
     ]
    },
    {
     "data": {
      "text/plain": [
       "21989.232949553363"
      ]
     },
     "execution_count": 5,
     "metadata": {},
     "output_type": "execute_result"
    }
   ],
   "source": [
    "def people_over_30_dp():\n",
    "    query_answer = len(adult[adult['Age'] > 30])\n",
    "    print(\"true answer:\", query_answer)\n",
    "    return laplace_mech(query_answer, 1, 1.0)\n",
    "\n",
    "\n",
    "people_over_30_dp()"
   ]
  },
  {
   "cell_type": "code",
   "execution_count": 6,
   "metadata": {
    "deletable": false,
    "editable": false,
    "nbgrader": {
     "cell_type": "code",
     "checksum": "b4ba7a7a4adf3707eb18699578400738",
     "grade": true,
     "grade_id": "cell-6b8b93375f070186",
     "locked": true,
     "points": 5,
     "schema_version": 3,
     "solution": false,
     "task": false
    }
   },
   "outputs": [
    {
     "name": "stdout",
     "output_type": "stream",
     "text": [
      "true answer: 21989\n",
      "true answer: 21989\n",
      "true answer: 21989\n",
      "true answer: 21989\n",
      "true answer: 21989\n",
      "true answer: 21989\n",
      "true answer: 21989\n",
      "true answer: 21989\n",
      "true answer: 21989\n",
      "true answer: 21989\n",
      "true answer: 21989\n",
      "true answer: 21989\n",
      "true answer: 21989\n",
      "true answer: 21989\n",
      "true answer: 21989\n",
      "true answer: 21989\n",
      "true answer: 21989\n",
      "true answer: 21989\n",
      "true answer: 21989\n",
      "true answer: 21989\n",
      "true answer: 21989\n",
      "true answer: 21989\n",
      "true answer: 21989\n",
      "true answer: 21989\n",
      "true answer: 21989\n",
      "true answer: 21989\n",
      "true answer: 21989\n",
      "true answer: 21989\n",
      "true answer: 21989\n",
      "true answer: 21989\n",
      "true answer: 21989\n",
      "true answer: 21989\n",
      "true answer: 21989\n",
      "true answer: 21989\n",
      "true answer: 21989\n",
      "true answer: 21989\n",
      "true answer: 21989\n",
      "true answer: 21989\n",
      "true answer: 21989\n",
      "true answer: 21989\n",
      "true answer: 21989\n",
      "true answer: 21989\n",
      "true answer: 21989\n",
      "true answer: 21989\n",
      "true answer: 21989\n",
      "true answer: 21989\n",
      "true answer: 21989\n",
      "true answer: 21989\n",
      "true answer: 21989\n",
      "true answer: 21989\n",
      "true answer: 21989\n",
      "true answer: 21989\n",
      "true answer: 21989\n",
      "true answer: 21989\n",
      "true answer: 21989\n",
      "true answer: 21989\n",
      "true answer: 21989\n",
      "true answer: 21989\n",
      "true answer: 21989\n",
      "true answer: 21989\n",
      "true answer: 21989\n",
      "true answer: 21989\n",
      "true answer: 21989\n",
      "true answer: 21989\n",
      "true answer: 21989\n",
      "true answer: 21989\n",
      "true answer: 21989\n",
      "true answer: 21989\n",
      "true answer: 21989\n",
      "true answer: 21989\n",
      "true answer: 21989\n",
      "true answer: 21989\n",
      "true answer: 21989\n",
      "true answer: 21989\n",
      "true answer: 21989\n",
      "true answer: 21989\n",
      "true answer: 21989\n",
      "true answer: 21989\n",
      "true answer: 21989\n",
      "true answer: 21989\n",
      "true answer: 21989\n",
      "true answer: 21989\n",
      "true answer: 21989\n",
      "true answer: 21989\n",
      "true answer: 21989\n",
      "true answer: 21989\n",
      "true answer: 21989\n",
      "true answer: 21989\n",
      "true answer: 21989\n",
      "true answer: 21989\n",
      "true answer: 21989\n",
      "true answer: 21989\n",
      "true answer: 21989\n",
      "true answer: 21989\n",
      "true answer: 21989\n",
      "true answer: 21989\n",
      "true answer: 21989\n",
      "true answer: 21989\n",
      "true answer: 21989\n",
      "true answer: 21989\n",
      "true answer: 21989\n",
      "true answer: 21989\n",
      "true answer: 21989\n",
      "true answer: 21989\n",
      "true answer: 21989\n",
      "true answer: 21989\n",
      "true answer: 21989\n",
      "true answer: 21989\n",
      "true answer: 21989\n",
      "true answer: 21989\n",
      "true answer: 21989\n",
      "true answer: 21989\n",
      "true answer: 21989\n",
      "true answer: 21989\n",
      "true answer: 21989\n",
      "true answer: 21989\n",
      "true answer: 21989\n",
      "true answer: 21989\n",
      "true answer: 21989\n",
      "true answer: 21989\n",
      "true answer: 21989\n",
      "true answer: 21989\n",
      "true answer: 21989\n",
      "true answer: 21989\n",
      "true answer: 21989\n",
      "true answer: 21989\n",
      "true answer: 21989\n",
      "true answer: 21989\n",
      "true answer: 21989\n",
      "true answer: 21989\n",
      "true answer: 21989\n",
      "true answer: 21989\n",
      "true answer: 21989\n",
      "true answer: 21989\n",
      "true answer: 21989\n",
      "true answer: 21989\n",
      "true answer: 21989\n",
      "true answer: 21989\n",
      "true answer: 21989\n",
      "true answer: 21989\n",
      "true answer: 21989\n",
      "true answer: 21989\n",
      "true answer: 21989\n",
      "true answer: 21989\n",
      "true answer: 21989\n",
      "true answer: 21989\n",
      "true answer: 21989\n",
      "true answer: 21989\n",
      "true answer: 21989\n",
      "true answer: 21989\n",
      "true answer: 21989\n",
      "true answer: 21989\n",
      "true answer: 21989\n",
      "true answer: 21989\n",
      "true answer: 21989\n",
      "true answer: 21989\n",
      "true answer: 21989\n",
      "true answer: 21989\n",
      "true answer: 21989\n",
      "true answer: 21989\n",
      "true answer: 21989\n",
      "true answer: 21989\n",
      "true answer: 21989\n",
      "true answer: 21989\n",
      "true answer: 21989\n",
      "true answer: 21989\n",
      "true answer: 21989\n",
      "true answer: 21989\n",
      "true answer: 21989\n",
      "true answer: 21989\n",
      "true answer: 21989\n",
      "true answer: 21989\n",
      "true answer: 21989\n",
      "true answer: 21989\n",
      "true answer: 21989\n",
      "true answer: 21989\n",
      "true answer: 21989\n",
      "true answer: 21989\n",
      "true answer: 21989\n",
      "true answer: 21989\n",
      "true answer: 21989\n",
      "true answer: 21989\n",
      "true answer: 21989\n",
      "true answer: 21989\n",
      "true answer: 21989\n",
      "true answer: 21989\n",
      "true answer: 21989\n",
      "true answer: 21989\n",
      "true answer: 21989\n",
      "true answer: 21989\n",
      "true answer: 21989\n",
      "true answer: 21989\n",
      "true answer: 21989\n",
      "true answer: 21989\n",
      "true answer: 21989\n",
      "true answer: 21989\n",
      "true answer: 21989\n",
      "true answer: 21989\n",
      "true answer: 21989\n",
      "true answer: 21989\n"
     ]
    }
   ],
   "source": [
    "# TEST CASE for question 2\n",
    "dist1 = [np.random.laplace(loc=21989, scale=1.0) for _ in range(200)]\n",
    "dist2 = [people_over_30_dp() for _ in range(200)]\n",
    "\n",
    "assert stats.wasserstein_distance(dist1, dist2) < 1"
   ]
  },
  {
   "cell_type": "code",
   "execution_count": null,
   "metadata": {},
   "outputs": [],
   "source": []
  }
 ],
 "metadata": {
  "kernelspec": {
   "display_name": "Python 3",
   "language": "python",
   "name": "python3"
  },
  "language_info": {
   "codemirror_mode": {
    "name": "ipython",
    "version": 3
   },
   "file_extension": ".py",
   "mimetype": "text/x-python",
   "name": "python",
   "nbconvert_exporter": "python",
   "pygments_lexer": "ipython3",
   "version": "3.7.4"
  }
 },
 "nbformat": 4,
 "nbformat_minor": 4
}
