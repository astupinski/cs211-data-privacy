{
 "cells": [
  {
   "cell_type": "markdown",
   "metadata": {},
   "source": [
    "# CS211: Data Privacy\n",
    "## In-Class Exercise, 9/2/2020"
   ]
  },
  {
   "cell_type": "code",
   "execution_count": 1,
   "metadata": {},
   "outputs": [],
   "source": [
    "# Load the data and libraries\n",
    "import pandas as pd\n",
    "import numpy as np\n",
    "\n",
    "adult = pd.read_csv('https://github.com/jnear/cs211-data-privacy/raw/master/homework/adult_with_pii.csv')"
   ]
  },
  {
   "cell_type": "markdown",
   "metadata": {},
   "source": [
    "## Question 1 (5 points)\n",
    "\n",
    "Write code to group the `adult` dataset by a single column and count the number of members in each group."
   ]
  },
  {
   "cell_type": "code",
   "execution_count": 10,
   "metadata": {
    "deletable": false,
    "nbgrader": {
     "cell_type": "code",
     "checksum": "dc23ce6b322e340f4c56f77cd599457b",
     "grade": false,
     "grade_id": "cell-055399c92e676783",
     "locked": false,
     "schema_version": 3,
     "solution": true,
     "task": false
    }
   },
   "outputs": [],
   "source": [
    "def group_one_count(col):\n",
    "    return adult.groupby(col).size()"
   ]
  },
  {
   "cell_type": "code",
   "execution_count": 11,
   "metadata": {
    "deletable": false,
    "editable": false,
    "nbgrader": {
     "cell_type": "code",
     "checksum": "e04360bac7e89ce5b4dfd167a157d9a0",
     "grade": false,
     "grade_id": "cell-1b7d2f55d89f7bfb",
     "locked": true,
     "schema_version": 3,
     "solution": false,
     "task": false
    }
   },
   "outputs": [
    {
     "data": {
      "text/plain": [
       "Education\n",
       "10th              933\n",
       "11th             1175\n",
       "12th              433\n",
       "1st-4th           168\n",
       "5th-6th           333\n",
       "7th-8th           646\n",
       "9th               514\n",
       "Assoc-acdm       1067\n",
       "Assoc-voc        1382\n",
       "Bachelors        5355\n",
       "Doctorate         413\n",
       "HS-grad         10501\n",
       "Masters          1723\n",
       "Preschool          51\n",
       "Prof-school       576\n",
       "Some-college     7291\n",
       "dtype: int64"
      ]
     },
     "execution_count": 11,
     "metadata": {},
     "output_type": "execute_result"
    }
   ],
   "source": [
    "group_one_count('Education')"
   ]
  },
  {
   "cell_type": "code",
   "execution_count": 12,
   "metadata": {
    "deletable": false,
    "editable": false,
    "nbgrader": {
     "cell_type": "code",
     "checksum": "39a0d109403154e47d176c577542d308",
     "grade": true,
     "grade_id": "cell-befc11c8be0bf91b",
     "locked": true,
     "points": 5,
     "schema_version": 3,
     "solution": false,
     "task": false
    }
   },
   "outputs": [],
   "source": [
    "s = group_one_count('Education')\n",
    "assert s['10th'] == 933\n",
    "assert s['9th'] == 514\n",
    "assert s['Some-college'] == 7291"
   ]
  },
  {
   "cell_type": "markdown",
   "metadata": {},
   "source": [
    "## Question 2 (5 points)\n",
    "\n",
    "Write code to group the `adult` dataset by two columns and count the number of members in each group."
   ]
  },
  {
   "cell_type": "code",
   "execution_count": 13,
   "metadata": {
    "deletable": false,
    "nbgrader": {
     "cell_type": "code",
     "checksum": "bda137f6be4a2a7095dc70d8b2528979",
     "grade": false,
     "grade_id": "cell-f6a37efe405c4a98",
     "locked": false,
     "schema_version": 3,
     "solution": true,
     "task": false
    }
   },
   "outputs": [],
   "source": [
    "def group_two_count(col1, col2):\n",
    "    return adult.groupby([col1, col2]).size()"
   ]
  },
  {
   "cell_type": "code",
   "execution_count": 14,
   "metadata": {
    "deletable": false,
    "editable": false,
    "nbgrader": {
     "cell_type": "code",
     "checksum": "c97b74e43122b4e2e37616b5f36e5258",
     "grade": false,
     "grade_id": "cell-c5a57d9ba078cfd0",
     "locked": true,
     "schema_version": 3,
     "solution": false,
     "task": false
    }
   },
   "outputs": [
    {
     "data": {
      "text/plain": [
       "Occupation        Education   \n",
       "Adm-clerical      10th             38\n",
       "                  11th             67\n",
       "                  12th             38\n",
       "                  5th-6th           6\n",
       "                  7th-8th          11\n",
       "                                 ... \n",
       "Transport-moving  Doctorate         1\n",
       "                  HS-grad         825\n",
       "                  Masters          10\n",
       "                  Prof-school       3\n",
       "                  Some-college    283\n",
       "Length: 201, dtype: int64"
      ]
     },
     "execution_count": 14,
     "metadata": {},
     "output_type": "execute_result"
    }
   ],
   "source": [
    "group_two_count('Occupation', 'Education')"
   ]
  },
  {
   "cell_type": "code",
   "execution_count": 15,
   "metadata": {
    "deletable": false,
    "editable": false,
    "nbgrader": {
     "cell_type": "code",
     "checksum": "e26daaeb47a1df9ef0be4d2d4f1ed2b8",
     "grade": true,
     "grade_id": "cell-88caedc5d6e44568",
     "locked": true,
     "points": 5,
     "schema_version": 3,
     "solution": false,
     "task": false
    }
   },
   "outputs": [],
   "source": [
    "s = group_two_count('Occupation', 'Education')\n",
    "assert s['Transport-moving']['Doctorate'] == 1\n",
    "assert s['Adm-clerical']['10th'] == 38"
   ]
  },
  {
   "cell_type": "markdown",
   "metadata": {},
   "source": [
    "## Question 3 (5 points)\n",
    "\n",
    "Write code to perform a differencing attack to determine Brenn McNeely's age using only the `mean` aggregation function over large groups."
   ]
  },
  {
   "cell_type": "code",
   "execution_count": 16,
   "metadata": {
    "deletable": false,
    "nbgrader": {
     "cell_type": "code",
     "checksum": "7773da7ce0918a58a836b7721186befc",
     "grade": false,
     "grade_id": "cell-6fb63040052b0857",
     "locked": false,
     "schema_version": 3,
     "solution": true,
     "task": false
    }
   },
   "outputs": [],
   "source": [
    "def get_brenns_age():\n",
    "    a1 = adult['Age'].mean()\n",
    "    a2 = adult[adult['Name'] != 'Brenn McNeely']['Age'].mean()\n",
    "    return a1*len(adult) - a2*(len(adult) - 1)\n",
    "\n",
    "brenns_age = get_brenns_age()"
   ]
  },
  {
   "cell_type": "code",
   "execution_count": 17,
   "metadata": {
    "deletable": false,
    "editable": false,
    "nbgrader": {
     "cell_type": "code",
     "checksum": "8e359a1337a76eba8bd234e4e8c2d02f",
     "grade": true,
     "grade_id": "cell-d66b7d6c32d256c6",
     "locked": true,
     "points": 5,
     "schema_version": 3,
     "solution": false,
     "task": false
    }
   },
   "outputs": [],
   "source": [
    "assert brenns_age == 38.0"
   ]
  },
  {
   "cell_type": "code",
   "execution_count": null,
   "metadata": {},
   "outputs": [],
   "source": []
  }
 ],
 "metadata": {
  "kernelspec": {
   "display_name": "Python 3",
   "language": "python",
   "name": "python3"
  },
  "language_info": {
   "codemirror_mode": {
    "name": "ipython",
    "version": 3
   },
   "file_extension": ".py",
   "mimetype": "text/x-python",
   "name": "python",
   "nbconvert_exporter": "python",
   "pygments_lexer": "ipython3",
   "version": "3.7.4"
  }
 },
 "nbformat": 4,
 "nbformat_minor": 4
}
