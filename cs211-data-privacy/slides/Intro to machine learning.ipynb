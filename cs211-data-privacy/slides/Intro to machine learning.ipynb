{
 "cells": [
  {
   "cell_type": "code",
   "execution_count": 106,
   "metadata": {},
   "outputs": [],
   "source": [
    "%matplotlib inline\n",
    "import matplotlib.pyplot as plt\n",
    "plt.style.use('seaborn-whitegrid')\n",
    "import pandas as pd\n",
    "import numpy as np\n",
    "from collections import defaultdict\n",
    "\n",
    "# Some useful utilities\n",
    "\n",
    "def laplace_mech(v, sensitivity, epsilon):\n",
    "    return v + np.random.laplace(loc=0, scale=sensitivity / epsilon)\n",
    "\n",
    "def gaussian_mech(v, sensitivity, epsilon, delta):\n",
    "    return v + np.random.normal(loc=0, scale=sensitivity * np.sqrt(2*np.log(1.25/delta)) / epsilon)\n",
    "\n",
    "def gaussian_mech_vec(v, sensitivity, epsilon, delta):\n",
    "    return v + np.random.normal(loc=0, scale=sensitivity * np.sqrt(2*np.log(1.25/delta)) / epsilon, size=len(v))\n",
    "\n",
    "def pct_error(orig, priv):\n",
    "    return np.abs(orig - priv)/orig * 100.0\n",
    "\n",
    "def z_clip(xs, b):\n",
    "    return [min(x, b) for x in xs]\n",
    "\n",
    "def g_clip(v):\n",
    "    n = np.linalg.norm(v, ord=2)\n",
    "    if n > 1:\n",
    "        return v / n\n",
    "    else:\n",
    "        return v"
   ]
  },
  {
   "cell_type": "markdown",
   "metadata": {},
   "source": [
    "# Logistic Regression with Scikit-Learn"
   ]
  },
  {
   "cell_type": "markdown",
   "metadata": {},
   "source": [
    "The dataset files you'll need are available here:\n",
    "\n",
    "- [`adult_processed_x`](https://github.com/jnear/cs295-data-privacy/blob/master/slides/adult_processed_x.npy)\n",
    "- [`adult_processed_y`](https://github.com/jnear/cs295-data-privacy/blob/master/slides/adult_processed_y.npy)"
   ]
  },
  {
   "cell_type": "code",
   "execution_count": 2,
   "metadata": {},
   "outputs": [],
   "source": [
    "X = np.load('adult_processed_x.npy')\n",
    "y = np.load('adult_processed_y.npy')"
   ]
  },
  {
   "cell_type": "markdown",
   "metadata": {},
   "source": [
    "We generally split our data into a \"training set\" and a \"test set.\" We train the model on the training set, and test its accuracy on the test set. The goal is to avoid \"overfitting\" - a model that simply memorizes the training data, and can't generalize to new data."
   ]
  },
  {
   "cell_type": "code",
   "execution_count": 3,
   "metadata": {},
   "outputs": [
    {
     "data": {
      "text/plain": [
       "(9044,)"
      ]
     },
     "execution_count": 3,
     "metadata": {},
     "output_type": "execute_result"
    }
   ],
   "source": [
    "training_size = int(X.shape[0] * 0.8)\n",
    "\n",
    "X_train = X[:training_size]\n",
    "X_test = X[training_size:]\n",
    "\n",
    "y_train = y[:training_size]\n",
    "y_test = y[training_size:]\n",
    "\n",
    "y_test.shape"
   ]
  },
  {
   "cell_type": "markdown",
   "metadata": {},
   "source": [
    "We'll mainly use logistic regression, but the techniques we'll see apply to a number of different machine learning tasks. Scikit-learn has logistic regression built in."
   ]
  },
  {
   "cell_type": "code",
   "execution_count": 4,
   "metadata": {},
   "outputs": [
    {
     "data": {
      "text/plain": [
       "LogisticRegression(C=1.0, class_weight=None, dual=False, fit_intercept=True,\n",
       "          intercept_scaling=1, max_iter=100, multi_class='ovr', n_jobs=1,\n",
       "          penalty='l2', random_state=None, solver='liblinear', tol=0.0001,\n",
       "          verbose=0, warm_start=False)"
      ]
     },
     "execution_count": 4,
     "metadata": {},
     "output_type": "execute_result"
    }
   ],
   "source": [
    "from sklearn.linear_model import LogisticRegression\n",
    "model = LogisticRegression().fit(X_train,y_train)\n",
    "model"
   ]
  },
  {
   "cell_type": "code",
   "execution_count": 5,
   "metadata": {},
   "outputs": [
    {
     "data": {
      "text/plain": [
       "array([-1., -1., -1., ..., -1., -1., -1.])"
      ]
     },
     "execution_count": 5,
     "metadata": {},
     "output_type": "execute_result"
    }
   ],
   "source": [
    "model.predict(X_test)"
   ]
  },
  {
   "cell_type": "code",
   "execution_count": 6,
   "metadata": {},
   "outputs": [
    {
     "data": {
      "text/plain": [
       "array([ True, False,  True, ...,  True,  True,  True], dtype=bool)"
      ]
     },
     "execution_count": 6,
     "metadata": {},
     "output_type": "execute_result"
    }
   ],
   "source": [
    "# We can use the test set to test our new model\n",
    "model.predict(X_test) == y_test"
   ]
  },
  {
   "cell_type": "code",
   "execution_count": 7,
   "metadata": {},
   "outputs": [
    {
     "data": {
      "text/plain": [
       "0.84464838567005751"
      ]
     },
     "execution_count": 7,
     "metadata": {},
     "output_type": "execute_result"
    }
   ],
   "source": [
    "# Ratio of correct answers to total\n",
    "np.sum(model.predict(X_test) == y_test)/X_test.shape[0]"
   ]
  },
  {
   "cell_type": "markdown",
   "metadata": {},
   "source": [
    "# Our own Gradient Descent"
   ]
  },
  {
   "cell_type": "markdown",
   "metadata": {},
   "source": [
    "What does Scikit-learn actually do? We'll look at a simple but effective algorithm for training - gradient descent."
   ]
  },
  {
   "cell_type": "code",
   "execution_count": 11,
   "metadata": {},
   "outputs": [],
   "source": [
    "# Prediction: take a model (theta) and a single example (xi) and return its predicted label\n",
    "def predict(theta, xi):\n",
    "    label = np.sign(xi @ theta)\n",
    "    return label"
   ]
  },
  {
   "cell_type": "code",
   "execution_count": 26,
   "metadata": {},
   "outputs": [
    {
     "data": {
      "text/plain": [
       "0.0"
      ]
     },
     "execution_count": 26,
     "metadata": {},
     "output_type": "execute_result"
    }
   ],
   "source": [
    "# We can take an initial guess at theta - a vector of all zeros.\n",
    "# It won't be very accurate.\n",
    "theta = np.zeros(X_train.shape[1])\n",
    "predict(theta, X_test[0])"
   ]
  },
  {
   "cell_type": "code",
   "execution_count": 13,
   "metadata": {},
   "outputs": [],
   "source": [
    "# The loss function measures how good our model is. The training goal is to minimize the loss.\n",
    "# This is the logistic loss function.\n",
    "def loss(theta, xi, yi):\n",
    "    exponent = - yi * (xi.dot(theta))\n",
    "    return np.log(1 + np.exp(exponent))"
   ]
  },
  {
   "cell_type": "code",
   "execution_count": 14,
   "metadata": {},
   "outputs": [
    {
     "data": {
      "text/plain": [
       "0.69314718055994529"
      ]
     },
     "execution_count": 14,
     "metadata": {},
     "output_type": "execute_result"
    }
   ],
   "source": [
    "# We can use the loss function to measure the effectiveness of our current theta\n",
    "loss(np.reshape(model.coef_, (104, 1)), X_train[0], y_train[0])\n",
    "loss(theta, X_train[0], y_train[0])"
   ]
  },
  {
   "cell_type": "code",
   "execution_count": 15,
   "metadata": {},
   "outputs": [
    {
     "data": {
      "text/plain": [
       "0.69314718055994529"
      ]
     },
     "execution_count": 15,
     "metadata": {},
     "output_type": "execute_result"
    }
   ],
   "source": [
    "np.mean([loss(theta, X_train[i], y_train[i]) for i in range(10000)])"
   ]
  },
  {
   "cell_type": "code",
   "execution_count": 17,
   "metadata": {},
   "outputs": [],
   "source": [
    "# This is the gradient of the logistic loss\n",
    "# The gradient is a vector that indicates in which direction the loss function is increasing fastest\n",
    "def gradient(theta, xi, yi):\n",
    "    exponent = yi * (xi.dot(theta))\n",
    "    return - (yi*xi) / (1+np.exp(exponent))"
   ]
  },
  {
   "cell_type": "code",
   "execution_count": 23,
   "metadata": {},
   "outputs": [
    {
     "data": {
      "text/plain": [
       "array([ 0.        ,  0.        ,  0.        ,  0.        , -0.51351237,\n",
       "        0.        ,  0.        ,  0.        , -0.51351237,  0.        ,\n",
       "        0.        ,  0.        ,  0.        ,  0.        ,  0.        ,\n",
       "        0.        ,  0.        ,  0.        ,  0.        ,  0.        ,\n",
       "        0.        ,  0.        ,  0.        ,  0.        ,  0.        ,\n",
       "       -0.51351237,  0.        ,  0.        ,  0.        ,  0.        ,\n",
       "        0.        ,  0.        , -0.51351237,  0.        ,  0.        ,\n",
       "        0.        ,  0.        ,  0.        ,  0.        ,  0.        ,\n",
       "        0.        ,  0.        ,  0.        ,  0.        , -0.51351237,\n",
       "        0.        ,  0.        ,  0.        ,  0.        ,  0.        ,\n",
       "        0.        ,  0.        ,  0.        ,  0.        , -0.51351237,\n",
       "        0.        , -0.51351237,  0.        ,  0.        ,  0.        ,\n",
       "        0.        ,  0.        ,  0.        ,  0.        ,  0.        ,\n",
       "        0.        ,  0.        ,  0.        ,  0.        ,  0.        ,\n",
       "        0.        ,  0.        ,  0.        ,  0.        ,  0.        ,\n",
       "        0.        ,  0.        ,  0.        ,  0.        ,  0.        ,\n",
       "        0.        ,  0.        ,  0.        ,  0.        ,  0.        ,\n",
       "        0.        ,  0.        ,  0.        ,  0.        ,  0.        ,\n",
       "        0.        ,  0.        ,  0.        ,  0.        ,  0.        ,\n",
       "       -0.51351237,  0.        ,  0.        , -0.25675619, -0.06225269,\n",
       "       -0.22466166,  0.        ,  0.        , -0.18154478])"
      ]
     },
     "execution_count": 23,
     "metadata": {},
     "output_type": "execute_result"
    }
   ],
   "source": [
    "# If we take a step in the *opposite* direction from the gradient (by negating it), we should \n",
    "# move theta in a direction that makes the loss *lower*\n",
    "# This is one step of gradient descent - in each step, we're trying to \"descend\" the gradient\n",
    "# In this example, we're taking the gradient on just a single training example (the first one)\n",
    "theta = theta - gradient(theta, X_train[0], y_train[0])\n",
    "theta"
   ]
  },
  {
   "cell_type": "code",
   "execution_count": 25,
   "metadata": {},
   "outputs": [
    {
     "data": {
      "text/plain": [
       "True"
      ]
     },
     "execution_count": 25,
     "metadata": {},
     "output_type": "execute_result"
    }
   ],
   "source": [
    "# Now our model is better!\n",
    "predict(theta, X_test[0]) == y_test[0]"
   ]
  },
  {
   "cell_type": "code",
   "execution_count": 31,
   "metadata": {},
   "outputs": [
    {
     "data": {
      "text/plain": [
       "0"
      ]
     },
     "execution_count": 31,
     "metadata": {},
     "output_type": "execute_result"
    }
   ],
   "source": [
    "# Let's measure the accuracy of our \"zeros theta\" - it's not good\n",
    "theta = np.zeros(X_train.shape[1])\n",
    "[predict(theta, xi) for xi in X_test] == y_test\n",
    "np.sum([predict(theta, xi) for xi in X_test] == y_test)"
   ]
  },
  {
   "cell_type": "code",
   "execution_count": 46,
   "metadata": {},
   "outputs": [
    {
     "data": {
      "text/plain": [
       "array([ True, False,  True, ...,  True,  True,  True], dtype=bool)"
      ]
     },
     "execution_count": 46,
     "metadata": {},
     "output_type": "execute_result"
    }
   ],
   "source": [
    "# Now take one step of gradient descent and try again\n",
    "theta = theta - gradient(theta, X_train[0], y_train[0])\n",
    "[predict(theta, xi) for xi in X_test] == y_test"
   ]
  },
  {
   "cell_type": "code",
   "execution_count": 35,
   "metadata": {},
   "outputs": [
    {
     "data": {
      "text/plain": [
       "(9044,)"
      ]
     },
     "metadata": {},
     "output_type": "display_data"
    },
    {
     "data": {
      "text/plain": [
       "0.75851393188854488"
      ]
     },
     "execution_count": 35,
     "metadata": {},
     "output_type": "execute_result"
    }
   ],
   "source": [
    "# The new model labels 75% of the test set correctly!\n",
    "display(y_test.shape)\n",
    "np.sum([predict(theta, xi) for xi in X_test] == y_test) / y_test.shape[0]"
   ]
  },
  {
   "cell_type": "code",
   "execution_count": 47,
   "metadata": {},
   "outputs": [
    {
     "data": {
      "text/plain": [
       "0.75851393188854488"
      ]
     },
     "execution_count": 47,
     "metadata": {},
     "output_type": "execute_result"
    }
   ],
   "source": [
    "# our measure of accuracy is just % correct of the test set\n",
    "def accuracy(theta, X, y):\n",
    "    return np.sum([predict(theta, xi) for xi in X] == y) / y.shape[0]\n",
    "\n",
    "accuracy(theta, X_test, y_test)"
   ]
  },
  {
   "cell_type": "markdown",
   "metadata": {},
   "source": [
    "## A step of gradient descent"
   ]
  },
  {
   "cell_type": "markdown",
   "metadata": {},
   "source": [
    "The basic gradient descent algorithm takes the *average* gradient over all of the examples in the training set, and steps in the opposite direction."
   ]
  },
  {
   "cell_type": "code",
   "execution_count": 49,
   "metadata": {},
   "outputs": [
    {
     "data": {
      "text/plain": [
       "0.75851393188854488"
      ]
     },
     "execution_count": 49,
     "metadata": {},
     "output_type": "execute_result"
    }
   ],
   "source": [
    "theta = np.zeros(X_train.shape[1])\n",
    "theta1 = theta - np.mean([gradient(theta, xi, yi) for xi, yi in zip(X_train, y_train)], axis=0)\n",
    "accuracy(theta1, X_test, y_test)"
   ]
  },
  {
   "cell_type": "code",
   "execution_count": 50,
   "metadata": {},
   "outputs": [],
   "source": [
    "# We'll use the average gradient a lot, so we define a function for it\n",
    "def avg_grad(theta, X, y):\n",
    "    return np.mean([gradient(theta, xi, yi) for xi, yi in zip(X, y)], axis=0)"
   ]
  },
  {
   "cell_type": "code",
   "execution_count": 54,
   "metadata": {},
   "outputs": [
    {
     "data": {
      "text/plain": [
       "0.55507606543433174"
      ]
     },
     "metadata": {},
     "output_type": "display_data"
    },
    {
     "data": {
      "text/plain": [
       "0.52743894635227084"
      ]
     },
     "metadata": {},
     "output_type": "display_data"
    },
    {
     "data": {
      "text/plain": [
       "0.50711714383727191"
      ]
     },
     "metadata": {},
     "output_type": "display_data"
    },
    {
     "data": {
      "text/plain": [
       "0.4916876964348964"
      ]
     },
     "metadata": {},
     "output_type": "display_data"
    },
    {
     "data": {
      "text/plain": [
       "0.47967792569340956"
      ]
     },
     "metadata": {},
     "output_type": "display_data"
    },
    {
     "data": {
      "text/plain": [
       "0.47011075871430719"
      ]
     },
     "metadata": {},
     "output_type": "display_data"
    },
    {
     "data": {
      "text/plain": [
       "0.46232417347066274"
      ]
     },
     "metadata": {},
     "output_type": "display_data"
    },
    {
     "data": {
      "text/plain": [
       "0.45586210682683342"
      ]
     },
     "metadata": {},
     "output_type": "display_data"
    },
    {
     "data": {
      "text/plain": [
       "0.45040486337426139"
      ]
     },
     "metadata": {},
     "output_type": "display_data"
    },
    {
     "data": {
      "text/plain": [
       "0.44572431306271937"
      ]
     },
     "metadata": {},
     "output_type": "display_data"
    },
    {
     "data": {
      "text/plain": [
       "0.77874834144183991"
      ]
     },
     "execution_count": 54,
     "metadata": {},
     "output_type": "execute_result"
    }
   ],
   "source": [
    "# This is the basic gradient descent algorithm, run for 10 steps (10 iterations)\n",
    "# At each step, we print out the loss. Notice that it decreases with each step.\n",
    "theta = np.zeros(X_train.shape[1])\n",
    "\n",
    "for i in range(10):\n",
    "    theta = theta - avg_grad(theta, X_train, y_train)\n",
    "    display(np.mean([loss(theta, X_train[i], y_train[i]) for i in range(10000)]))\n",
    "\n",
    "accuracy(theta, X_test, y_test)"
   ]
  },
  {
   "cell_type": "code",
   "execution_count": 55,
   "metadata": {},
   "outputs": [
    {
     "data": {
      "text/plain": [
       "array([  1.63933476e-02,  -2.62737908e-02,  -3.76703876e-01,\n",
       "         5.75414219e-02,  -6.45755008e-02,  -2.73486282e-02,\n",
       "        -1.30672661e-03,  -5.91543132e-02,  -7.64880798e-02,\n",
       "        -2.62061378e-02,  -1.57561761e-02,  -2.86662073e-02,\n",
       "        -4.72301785e-02,  -3.76260473e-02,  -9.90166218e-03,\n",
       "        -1.97245917e-02,   1.55177596e-01,   4.49929106e-02,\n",
       "        -3.29796604e-01,   1.19518106e-01,  -4.89454322e-03,\n",
       "         6.88790663e-02,  -1.55396891e-01,  -1.80599005e-01,\n",
       "         1.54260151e-03,   3.89119966e-01,  -1.97894731e-02,\n",
       "        -5.15748994e-01,  -5.58626968e-02,  -4.09361505e-02,\n",
       "        -1.28065226e-01,  -1.62203385e-04,  -1.08119029e-01,\n",
       "         1.88498244e-01,  -6.47481586e-02,  -8.66006277e-02,\n",
       "        -9.99400278e-02,  -2.05565204e-01,  -1.11388992e-02,\n",
       "         1.61706332e-01,  -3.59862313e-03,  -1.50012146e-02,\n",
       "         1.68869178e-03,  -5.12278071e-02,   3.20211424e-01,\n",
       "        -2.99730645e-01,  -6.21807885e-02,  -2.79987375e-01,\n",
       "        -1.81265739e-01,   8.06793703e-02,  -1.62147320e-02,\n",
       "        -2.28589562e-02,  -1.37829430e-01,  -1.60678844e-02,\n",
       "        -2.29302751e-01,  -3.66995428e-01,  -5.52783255e-02,\n",
       "         1.71465403e-04,   1.01657252e-03,  -2.30554477e-03,\n",
       "        -4.49929315e-03,  -3.16006935e-03,  -5.97944101e-03,\n",
       "        -2.17232333e-03,  -6.49185240e-03,   2.25224908e-03,\n",
       "         1.03307811e-03,  -2.97354842e-03,   4.61969711e-06,\n",
       "        -4.47281179e-03,  -2.64817559e-03,  -6.27231883e-05,\n",
       "        -8.45045871e-04,  -5.36070827e-04,   9.85204107e-05,\n",
       "         8.18802416e-04,   2.81426612e-04,  -1.10188120e-04,\n",
       "        -3.16311117e-04,  -4.14059871e-03,  -2.56618731e-04,\n",
       "        -1.23603629e-03,  -5.52492747e-02,  -2.68278922e-03,\n",
       "        -1.13850454e-03,  -2.58782610e-03,  -4.19239246e-03,\n",
       "        -2.31953654e-03,  -2.62620550e-03,  -8.63337753e-03,\n",
       "        -1.04120760e-03,  -4.43136447e-03,   2.32630683e-04,\n",
       "        -1.21364005e-03,  -1.63560801e-03,  -2.93003921e-01,\n",
       "        -5.03114545e-03,  -1.89672372e-04,  -7.59047983e-02,\n",
       "        -5.58277360e-02,  -6.33588757e-02,   5.91506903e-02,\n",
       "         4.41760150e-02,  -8.32223096e-02])"
      ]
     },
     "execution_count": 55,
     "metadata": {},
     "output_type": "execute_result"
    }
   ],
   "source": [
    "theta"
   ]
  },
  {
   "cell_type": "markdown",
   "metadata": {},
   "source": [
    "# Gradient descent with privacy"
   ]
  },
  {
   "cell_type": "code",
   "execution_count": 67,
   "metadata": {},
   "outputs": [],
   "source": [
    "# This is gradient descent with a *learning rate* \"eta\"\n",
    "def gradient_descent():\n",
    "    theta = np.zeros(X_train.shape[1])\n",
    "    eta = 1.0\n",
    "\n",
    "    for i in range(10):\n",
    "        theta = theta - eta * avg_grad(theta, X_train, y_train)\n",
    "\n",
    "    display(accuracy(theta, X_test, y_test))\n",
    "    return theta"
   ]
  },
  {
   "cell_type": "code",
   "execution_count": 68,
   "metadata": {},
   "outputs": [
    {
     "data": {
      "text/plain": [
       "0.77874834144183991"
      ]
     },
     "metadata": {},
     "output_type": "display_data"
    },
    {
     "data": {
      "text/plain": [
       "array([  1.63933476e-02,  -2.62737908e-02,  -3.76703876e-01,\n",
       "         5.75414219e-02,  -6.45755008e-02,  -2.73486282e-02,\n",
       "        -1.30672661e-03,  -5.91543132e-02,  -7.64880798e-02,\n",
       "        -2.62061378e-02,  -1.57561761e-02,  -2.86662073e-02,\n",
       "        -4.72301785e-02,  -3.76260473e-02,  -9.90166218e-03,\n",
       "        -1.97245917e-02,   1.55177596e-01,   4.49929106e-02,\n",
       "        -3.29796604e-01,   1.19518106e-01,  -4.89454322e-03,\n",
       "         6.88790663e-02,  -1.55396891e-01,  -1.80599005e-01,\n",
       "         1.54260151e-03,   3.89119966e-01,  -1.97894731e-02,\n",
       "        -5.15748994e-01,  -5.58626968e-02,  -4.09361505e-02,\n",
       "        -1.28065226e-01,  -1.62203385e-04,  -1.08119029e-01,\n",
       "         1.88498244e-01,  -6.47481586e-02,  -8.66006277e-02,\n",
       "        -9.99400278e-02,  -2.05565204e-01,  -1.11388992e-02,\n",
       "         1.61706332e-01,  -3.59862313e-03,  -1.50012146e-02,\n",
       "         1.68869178e-03,  -5.12278071e-02,   3.20211424e-01,\n",
       "        -2.99730645e-01,  -6.21807885e-02,  -2.79987375e-01,\n",
       "        -1.81265739e-01,   8.06793703e-02,  -1.62147320e-02,\n",
       "        -2.28589562e-02,  -1.37829430e-01,  -1.60678844e-02,\n",
       "        -2.29302751e-01,  -3.66995428e-01,  -5.52783255e-02,\n",
       "         1.71465403e-04,   1.01657252e-03,  -2.30554477e-03,\n",
       "        -4.49929315e-03,  -3.16006935e-03,  -5.97944101e-03,\n",
       "        -2.17232333e-03,  -6.49185240e-03,   2.25224908e-03,\n",
       "         1.03307811e-03,  -2.97354842e-03,   4.61969711e-06,\n",
       "        -4.47281179e-03,  -2.64817559e-03,  -6.27231883e-05,\n",
       "        -8.45045871e-04,  -5.36070827e-04,   9.85204107e-05,\n",
       "         8.18802416e-04,   2.81426612e-04,  -1.10188120e-04,\n",
       "        -3.16311117e-04,  -4.14059871e-03,  -2.56618731e-04,\n",
       "        -1.23603629e-03,  -5.52492747e-02,  -2.68278922e-03,\n",
       "        -1.13850454e-03,  -2.58782610e-03,  -4.19239246e-03,\n",
       "        -2.31953654e-03,  -2.62620550e-03,  -8.63337753e-03,\n",
       "        -1.04120760e-03,  -4.43136447e-03,   2.32630683e-04,\n",
       "        -1.21364005e-03,  -1.63560801e-03,  -2.93003921e-01,\n",
       "        -5.03114545e-03,  -1.89672372e-04,  -7.59047983e-02,\n",
       "        -5.58277360e-02,  -6.33588757e-02,   5.91506903e-02,\n",
       "         4.41760150e-02,  -8.32223096e-02])"
      ]
     },
     "execution_count": 68,
     "metadata": {},
     "output_type": "execute_result"
    }
   ],
   "source": [
    "gradient_descent()"
   ]
  },
  {
   "cell_type": "code",
   "execution_count": 77,
   "metadata": {},
   "outputs": [],
   "source": [
    "# This is a differentially private version of gradient descent:\n",
    "# At each iteration, we use the Gaussian mechanism to add enough noise to the gradient to\n",
    "# make it differentially private. By post-processing, the update we perform afterwards satisfies\n",
    "# differential privacy.\n",
    "# We're assuming the sensitivity is 1 - but it's not. We'll fix that later.\n",
    "def dp_gradient_descent(epsilon, delta):\n",
    "    theta = np.zeros(X_train.shape[1])\n",
    "    eta = 1.0\n",
    "\n",
    "    for i in range(10):\n",
    "        theta = theta - eta * gaussian_mech_vec(avg_grad(theta, X_train, y_train), 1, epsilon, delta)\n",
    "\n",
    "    return accuracy(theta, X_test, y_test)\n",
    "    #return theta"
   ]
  },
  {
   "cell_type": "code",
   "execution_count": 80,
   "metadata": {},
   "outputs": [
    {
     "name": "stderr",
     "output_type": "stream",
     "text": [
      "/anaconda3/lib/python3.6/site-packages/ipykernel_launcher.py:3: RuntimeWarning: overflow encountered in exp\n",
      "  This is separate from the ipykernel package so we can avoid doing imports until\n"
     ]
    },
    {
     "data": {
      "text/plain": [
       "[(0.10000000000000001, 0.37394957983193278),\n",
       " (11.200000000000001, 0.67138434321096863),\n",
       " (22.300000000000004, 0.75077399380804954),\n",
       " (33.400000000000006, 0.74104378593542686),\n",
       " (44.500000000000007, 0.73452012383900933),\n",
       " (55.600000000000009, 0.7568553737284387),\n",
       " (66.700000000000003, 0.76448474126492705),\n",
       " (77.800000000000011, 0.77841662980981863),\n",
       " (88.900000000000006, 0.78814683768244143),\n",
       " (100.0, 0.7816231755860239)]"
      ]
     },
     "metadata": {},
     "output_type": "display_data"
    },
    {
     "data": {
      "image/png": "[encoded data removed]",
      "text/plain": [
       "<matplotlib.figure.Figure at 0x116e05128>"
      ]
     },
     "metadata": {},
     "output_type": "display_data"
    }
   ],
   "source": [
    "# The accuracy of the model degrades as we add more noise\n",
    "# This is because the training algorithm can go the wrong direction because of the noise.\n",
    "xs = np.linspace(0.1, 100.0, 10)\n",
    "ys = [dp_gradient_descent(x, 1e-5) for x in xs]\n",
    "plt.plot(xs,ys)\n",
    "display(list(zip(xs,ys)))"
   ]
  },
  {
   "cell_type": "code",
   "execution_count": 85,
   "metadata": {},
   "outputs": [],
   "source": [
    "# We can bound the sensitivity of the gradient by clipping\n",
    "# A common strategy is to clip the gradient for *each example* so that it has L2 norm of 1\n",
    "# Then the sensitivity of a single-example gradient is 1\n",
    "\n",
    "# L2 sensitivity: 1 by clipping\n",
    "def clip_gradient(theta, xi, yi):\n",
    "    exponent = yi * (xi.dot(theta))\n",
    "    return g_clip(- (yi*xi) / (1+np.exp(exponent)))\n",
    "\n",
    "# When we take the average over all examples, the sensitivity is 1/n, where n is the size of the training set.\n",
    "# This is just like the averages we've seen in database-style examples: only one example will change\n",
    "# between neighboring datasets, so the sensitivity of the sum of examples is just 1.\n",
    "\n",
    "# L2 sensitivity: 1/X.shape[0] by averaging\n",
    "def avg_clip_grad(theta, X, y):\n",
    "    return np.mean([clip_gradient(theta, xi, yi) for xi, yi in zip(X, y)], axis=0)"
   ]
  },
  {
   "cell_type": "code",
   "execution_count": 100,
   "metadata": {},
   "outputs": [],
   "source": [
    "# Now we can use a sensitivity of 1/X_train.shape[0] to get differential privacy for each iteration\n",
    "# This is a huge win - sensitivity is very small when you have a large dataset\n",
    "# As you increase the amount of data you're training on, the sensitivity gets better\n",
    "def dp_gradient_descent(epsilon, delta):\n",
    "    theta = np.zeros(X_train.shape[1])\n",
    "    eta = 1.0\n",
    "\n",
    "    for i in range(10):\n",
    "        theta = theta - eta * gaussian_mech_vec(avg_clip_grad(theta, X_train, y_train), 1/X_train.shape[0], epsilon, delta)\n",
    "\n",
    "    return accuracy(theta, X_test, y_test)\n",
    "    #return theta"
   ]
  },
  {
   "cell_type": "code",
   "execution_count": 105,
   "metadata": {},
   "outputs": [
    {
     "data": {
      "text/plain": [
       "[0.65413533834586468,\n",
       " 0.51658558160106149,\n",
       " 0.47202565236620964,\n",
       " 0.37914639540026535,\n",
       " 0.66298098186643073]"
      ]
     },
     "execution_count": 105,
     "metadata": {},
     "output_type": "execute_result"
    }
   ],
   "source": [
    "[dp_gradient_descent(0.001, 1e-5) for x in range(5)]"
   ]
  },
  {
   "cell_type": "code",
   "execution_count": null,
   "metadata": {},
   "outputs": [],
   "source": [
    "# What's missing? Composition! Each step of our algorithm above is differentially private, but we haven't\n",
    "# bounded the *total* privacy cost of the algorithm. There are lots of ways to do this: advanced composition,\n",
    "# Renyi differential privacy, zCDP, etc."
   ]
  }
 ],
 "metadata": {
  "kernelspec": {
   "display_name": "Python 3",
   "language": "python",
   "name": "python3"
  },
  "language_info": {
   "codemirror_mode": {
    "name": "ipython",
    "version": 3
   },
   "file_extension": ".py",
   "mimetype": "text/x-python",
   "name": "python",
   "nbconvert_exporter": "python",
   "pygments_lexer": "ipython3",
   "version": "3.6.5"
  }
 },
 "nbformat": 4,
 "nbformat_minor": 2
}
