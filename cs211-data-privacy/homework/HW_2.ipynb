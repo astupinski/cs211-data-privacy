{
 "cells": [
  {
   "cell_type": "markdown",
   "metadata": {},
   "source": [
    "# CS211: Data Privacy\n",
    "## Homework 2"
   ]
  },
  {
   "cell_type": "code",
   "execution_count": 1,
   "metadata": {},
   "outputs": [],
   "source": [
    "# Load the data and libraries\n",
    "import pandas as pd\n",
    "import numpy as np\n",
    "\n",
    "adult = pd.read_csv('https://github.com/jnear/cs211-data-privacy/raw/master/homework/adult_with_pii.csv')\n",
    "adult = adult.dropna()"
   ]
  },
  {
   "cell_type": "markdown",
   "metadata": {},
   "source": [
    "## Question 1 (20 points)\n",
    "\n",
    "Implement a more efficient version of `is_k_anonymous`. The inefficient implementation, taken from the textbook, appears below.\n",
    "\n",
    "**Hint**: use the [`value_counts`](https://pandas.pydata.org/pandas-docs/stable/reference/api/pandas.Series.value_counts.html) function, and make sure no count is less than $k$."
   ]
  },
  {
   "cell_type": "code",
   "execution_count": null,
   "metadata": {},
   "outputs": [],
   "source": [
    "# Checking for k-Anonymity, taken from the textbook\n",
    "# def is_k_anonymous(k, qis, df):\n",
    "#     for index, row in df.iterrows():\n",
    "#         query = ' & '.join([f'`{col}` == \"{row[col]}\"' for col in qis])\n",
    "#         rows = df.query(query)\n",
    "#         if (rows.shape[0] < k):\n",
    "#             return False\n",
    "#     return True"
   ]
  },
  {
   "cell_type": "code",
   "execution_count": 2,
   "metadata": {
    "deletable": false,
    "nbgrader": {
     "cell_type": "code",
     "checksum": "f5188941c720ac0d62843425a9f6e924",
     "grade": false,
     "grade_id": "cell-41bce010b027856e",
     "locked": false,
     "schema_version": 3,
     "solution": true,
     "task": false
    }
   },
   "outputs": [
    {
     "name": "stdout",
     "output_type": "stream",
     "text": [
      "False\n",
      "True\n",
      "True\n"
     ]
    }
   ],
   "source": [
    "# Checking for k-anonymity more efficiently\n",
    "def is_k_anonymous(k, qis, df):\n",
    "    \"\"\"Returns true if df satisfies k-Anonymity for the quasi-identifiers \n",
    "    qis. Returns false otherwise.\"\"\"\n",
    "    for col in df[qis].columns:\n",
    "        counts = df[qis][col].value_counts()\n",
    "        for count in counts:\n",
    "            if count < k:\n",
    "                return False\n",
    "\n",
    "    return True\n",
    "            \n",
    "\n",
    "    \n",
    "print(is_k_anonymous(2, ['Age'], adult))\n",
    "print(is_k_anonymous(1, ['Age'], adult))\n",
    "print(is_k_anonymous(1, ['Age', 'Occupation'], adult))"
   ]
  },
  {
   "cell_type": "code",
   "execution_count": 3,
   "metadata": {
    "deletable": false,
    "editable": false,
    "nbgrader": {
     "cell_type": "code",
     "checksum": "faa260f295be78335faed2bddc5bc608",
     "grade": true,
     "grade_id": "cell-3d5fd22faf4dd36c",
     "locked": true,
     "points": 20,
     "schema_version": 3,
     "solution": false,
     "task": false
    }
   },
   "outputs": [],
   "source": [
    "# TEST CASES for question 1\n",
    "\n",
    "assert not is_k_anonymous(2, ['Age'], adult)\n",
    "assert is_k_anonymous(1, ['Age'], adult)\n",
    "assert is_k_anonymous(1, ['Age', 'Occupation'], adult)"
   ]
  },
  {
   "cell_type": "markdown",
   "metadata": {},
   "source": [
    "## Question 2 (10 points)\n",
    "\n",
    "Consider the definition of `generalize` below, taken from the textbook. The function takes a dataframe `df` and a dictionary `depths` that describes how much to generalize each column of `df`. Generalizing a column to a depth of $n$ replaces the $n$ least-significant digits of each number in that column by zeroes. For example, we could generalize column `A` by making its least-significant digit a 0 and column `B` by doing the same for 2 digits with the following depth specification:"
   ]
  },
  {
   "cell_type": "code",
   "execution_count": 4,
   "metadata": {},
   "outputs": [],
   "source": [
    "depths = {\n",
    "    'A': 1,\n",
    "    'B': 2\n",
    "}"
   ]
  },
  {
   "cell_type": "code",
   "execution_count": 5,
   "metadata": {},
   "outputs": [],
   "source": [
    "def generalize(df, depths):\n",
    "    return df.apply(lambda x: x.apply(lambda y: int(int(y/(10**depths[x.name]))*(10**depths[x.name]))))"
   ]
  },
  {
   "cell_type": "markdown",
   "metadata": {},
   "source": [
    "Using the `generalize` function, generalize the `Age` column of the `adult` dataset to a depth of 1. Drop the other columns of the dataset. Your result should achieve $k$-Anonymity for $k=20$."
   ]
  },
  {
   "cell_type": "code",
   "execution_count": 6,
   "metadata": {
    "deletable": false,
    "nbgrader": {
     "cell_type": "code",
     "checksum": "0f2a979204fce7f13427fa214f970114",
     "grade": false,
     "grade_id": "cell-ebd030727b205883",
     "locked": false,
     "schema_version": 3,
     "solution": true,
     "task": false
    }
   },
   "outputs": [],
   "source": [
    "def generalize_adult_age():\n",
    "    depths = {\n",
    "        'Age': 1\n",
    "    }\n",
    "            \n",
    "    return generalize(adult[['Age']], depths)"
   ]
  },
  {
   "cell_type": "code",
   "execution_count": 7,
   "metadata": {
    "deletable": false,
    "editable": false,
    "nbgrader": {
     "cell_type": "code",
     "checksum": "7641d523380fd293a03c365ca9a27493",
     "grade": true,
     "grade_id": "cell-040f45c8ba9921c4",
     "locked": true,
     "points": 10,
     "schema_version": 3,
     "solution": false,
     "task": false
    }
   },
   "outputs": [],
   "source": [
    "assert is_k_anonymous(20, ['Age'], generalize_adult_age())"
   ]
  },
  {
   "cell_type": "code",
   "execution_count": 8,
   "metadata": {},
   "outputs": [
    {
     "data": {
      "text/html": [
       "<div>\n",
       "<style scoped>\n",
       "    .dataframe tbody tr th:only-of-type {\n",
       "        vertical-align: middle;\n",
       "    }\n",
       "\n",
       "    .dataframe tbody tr th {\n",
       "        vertical-align: top;\n",
       "    }\n",
       "\n",
       "    .dataframe thead th {\n",
       "        text-align: right;\n",
       "    }\n",
       "</style>\n",
       "<table border=\"1\" class=\"dataframe\">\n",
       "  <thead>\n",
       "    <tr style=\"text-align: right;\">\n",
       "      <th></th>\n",
       "      <th>Age</th>\n",
       "    </tr>\n",
       "  </thead>\n",
       "  <tbody>\n",
       "    <tr>\n",
       "      <td>0</td>\n",
       "      <td>30</td>\n",
       "    </tr>\n",
       "    <tr>\n",
       "      <td>1</td>\n",
       "      <td>50</td>\n",
       "    </tr>\n",
       "    <tr>\n",
       "      <td>2</td>\n",
       "      <td>30</td>\n",
       "    </tr>\n",
       "    <tr>\n",
       "      <td>3</td>\n",
       "      <td>50</td>\n",
       "    </tr>\n",
       "    <tr>\n",
       "      <td>4</td>\n",
       "      <td>20</td>\n",
       "    </tr>\n",
       "    <tr>\n",
       "      <td>...</td>\n",
       "      <td>...</td>\n",
       "    </tr>\n",
       "    <tr>\n",
       "      <td>32556</td>\n",
       "      <td>20</td>\n",
       "    </tr>\n",
       "    <tr>\n",
       "      <td>32557</td>\n",
       "      <td>40</td>\n",
       "    </tr>\n",
       "    <tr>\n",
       "      <td>32558</td>\n",
       "      <td>50</td>\n",
       "    </tr>\n",
       "    <tr>\n",
       "      <td>32559</td>\n",
       "      <td>20</td>\n",
       "    </tr>\n",
       "    <tr>\n",
       "      <td>32560</td>\n",
       "      <td>50</td>\n",
       "    </tr>\n",
       "  </tbody>\n",
       "</table>\n",
       "<p>30162 rows × 1 columns</p>\n",
       "</div>"
      ],
      "text/plain": [
       "       Age\n",
       "0       30\n",
       "1       50\n",
       "2       30\n",
       "3       50\n",
       "4       20\n",
       "...    ...\n",
       "32556   20\n",
       "32557   40\n",
       "32558   50\n",
       "32559   20\n",
       "32560   50\n",
       "\n",
       "[30162 rows x 1 columns]"
      ]
     },
     "execution_count": 8,
     "metadata": {},
     "output_type": "execute_result"
    }
   ],
   "source": [
    "generalize_adult_age()"
   ]
  },
  {
   "cell_type": "markdown",
   "metadata": {},
   "source": [
    "## Question 3 (10 points)\n",
    "\n",
    "Using the `generalize` function, generalize the `Age` and `Zip` columns of the `adult` dataset in order to achieve $k$-Anonymity for $k=5$. Your result should drop other columns besides these two."
   ]
  },
  {
   "cell_type": "code",
   "execution_count": 9,
   "metadata": {
    "deletable": false,
    "nbgrader": {
     "cell_type": "code",
     "checksum": "712fd768a6e5c6a1c0072becd1d8cecd",
     "grade": false,
     "grade_id": "cell-2a5ad51eb81f11c9",
     "locked": false,
     "schema_version": 3,
     "solution": true,
     "task": false
    }
   },
   "outputs": [],
   "source": [
    "def generalize_adult_age_zip():\n",
    "    depths = {\n",
    "        'Age': 1,\n",
    "        'Zip': 2\n",
    "    }\n",
    "\n",
    "    return generalize(adult[['Age', 'Zip']], depths)"
   ]
  },
  {
   "cell_type": "code",
   "execution_count": 10,
   "metadata": {
    "deletable": false,
    "editable": false,
    "nbgrader": {
     "cell_type": "code",
     "checksum": "9f0d42e78670cf4f5ce4af603cde2c65",
     "grade": true,
     "grade_id": "cell-fd1c63463e2a9665",
     "locked": true,
     "points": 10,
     "schema_version": 3,
     "solution": false,
     "task": false
    }
   },
   "outputs": [],
   "source": [
    "assert is_k_anonymous(5, ['Age', 'Zip'], generalize_adult_age_zip())"
   ]
  },
  {
   "cell_type": "code",
   "execution_count": 11,
   "metadata": {},
   "outputs": [
    {
     "data": {
      "text/html": [
       "<div>\n",
       "<style scoped>\n",
       "    .dataframe tbody tr th:only-of-type {\n",
       "        vertical-align: middle;\n",
       "    }\n",
       "\n",
       "    .dataframe tbody tr th {\n",
       "        vertical-align: top;\n",
       "    }\n",
       "\n",
       "    .dataframe thead th {\n",
       "        text-align: right;\n",
       "    }\n",
       "</style>\n",
       "<table border=\"1\" class=\"dataframe\">\n",
       "  <thead>\n",
       "    <tr style=\"text-align: right;\">\n",
       "      <th></th>\n",
       "      <th>Age</th>\n",
       "      <th>Zip</th>\n",
       "    </tr>\n",
       "  </thead>\n",
       "  <tbody>\n",
       "    <tr>\n",
       "      <td>0</td>\n",
       "      <td>30</td>\n",
       "      <td>64100</td>\n",
       "    </tr>\n",
       "    <tr>\n",
       "      <td>1</td>\n",
       "      <td>50</td>\n",
       "      <td>61500</td>\n",
       "    </tr>\n",
       "    <tr>\n",
       "      <td>2</td>\n",
       "      <td>30</td>\n",
       "      <td>95600</td>\n",
       "    </tr>\n",
       "    <tr>\n",
       "      <td>3</td>\n",
       "      <td>50</td>\n",
       "      <td>25500</td>\n",
       "    </tr>\n",
       "    <tr>\n",
       "      <td>4</td>\n",
       "      <td>20</td>\n",
       "      <td>75300</td>\n",
       "    </tr>\n",
       "    <tr>\n",
       "      <td>...</td>\n",
       "      <td>...</td>\n",
       "      <td>...</td>\n",
       "    </tr>\n",
       "    <tr>\n",
       "      <td>32556</td>\n",
       "      <td>20</td>\n",
       "      <td>41300</td>\n",
       "    </tr>\n",
       "    <tr>\n",
       "      <td>32557</td>\n",
       "      <td>40</td>\n",
       "      <td>94700</td>\n",
       "    </tr>\n",
       "    <tr>\n",
       "      <td>32558</td>\n",
       "      <td>50</td>\n",
       "      <td>49600</td>\n",
       "    </tr>\n",
       "    <tr>\n",
       "      <td>32559</td>\n",
       "      <td>20</td>\n",
       "      <td>8200</td>\n",
       "    </tr>\n",
       "    <tr>\n",
       "      <td>32560</td>\n",
       "      <td>50</td>\n",
       "      <td>86100</td>\n",
       "    </tr>\n",
       "  </tbody>\n",
       "</table>\n",
       "<p>30162 rows × 2 columns</p>\n",
       "</div>"
      ],
      "text/plain": [
       "       Age    Zip\n",
       "0       30  64100\n",
       "1       50  61500\n",
       "2       30  95600\n",
       "3       50  25500\n",
       "4       20  75300\n",
       "...    ...    ...\n",
       "32556   20  41300\n",
       "32557   40  94700\n",
       "32558   50  49600\n",
       "32559   20   8200\n",
       "32560   50  86100\n",
       "\n",
       "[30162 rows x 2 columns]"
      ]
     },
     "execution_count": 11,
     "metadata": {},
     "output_type": "execute_result"
    }
   ],
   "source": [
    "generalize_adult_age_zip()"
   ]
  },
  {
   "cell_type": "markdown",
   "metadata": {},
   "source": [
    "## Question 4 (30 points)\n",
    "\n",
    "In 1-4 sentences each, answer the following:\n",
    "\n",
    "1. How much generalization was required to achieve $k=5$ in question 3?\n",
    "2. Does this level of generalization significantly impact the utility of the $k$-Anonymized data? Why or why not?\n",
    "3. Why is generalizing the `adult` dataset so challenging? (**Hint**: consider outliers)\n",
    "4. Is there another approach, in addition to our simple generalization method, that might work better?\n",
    "5. What is a simple method for generalizing the `Occupation` column?"
   ]
  },
  {
   "cell_type": "markdown",
   "metadata": {
    "deletable": false,
    "nbgrader": {
     "cell_type": "markdown",
     "checksum": "e5cf6d20ea57096a31536a9c112f78d4",
     "grade": true,
     "grade_id": "cell-44d08233c2b2e94a",
     "locked": false,
     "points": 30,
     "schema_version": 3,
     "solution": true,
     "task": false
    }
   },
   "source": [
    "1. To achieve k=5 in question 3, generalization to a depth of 1 for Age and to a depth of 2 for Zipcode was required. \n",
    "\n",
    "2. This level of generalization somewhat impacts the utility of the data. While you can still tell what age bracket people fall into, the region they live in has become more broad and could be less useful in certain situations. \n",
    "\n",
    "3. Generalizing this dataset is challenging because there are outliers in many of the columns. Trying to generalize these columns to a point where the outliers cannot be detected ends up generalizing too much, to a point where the data contains hardly any information at all. \n",
    "\n",
    "4. Removing these outliers before generalizing would work better, as you wouldn't have to generalize to as deep of a level and could maintain more information. Plus, you don't lose much important information from dropping outliers, as they usually skew your data in a way that doesn't represent the actual trend. You could also generalize to better suited numbers, such as rounding up or down rather than just truncating and adding a zero. \n",
    "\n",
    "5. To generalize the Occupation column, one could create more broad fields or umbrella categories for the occupations, so that they are less specific and don't reveal as much identifying information. "
   ]
  },
  {
   "cell_type": "code",
   "execution_count": null,
   "metadata": {},
   "outputs": [],
   "source": []
  }
 ],
 "metadata": {
  "kernelspec": {
   "display_name": "Python 3",
   "language": "python",
   "name": "python3"
  },
  "language_info": {
   "codemirror_mode": {
    "name": "ipython",
    "version": 3
   },
   "file_extension": ".py",
   "mimetype": "text/x-python",
   "name": "python",
   "nbconvert_exporter": "python",
   "pygments_lexer": "ipython3",
   "version": "3.7.4"
  }
 },
 "nbformat": 4,
 "nbformat_minor": 4
}
