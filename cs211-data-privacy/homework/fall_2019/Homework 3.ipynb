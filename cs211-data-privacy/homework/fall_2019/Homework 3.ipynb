{
 "cells": [
  {
   "cell_type": "markdown",
   "metadata": {},
   "source": [
    "# CS295B F19: Homework 3\n",
    "## Differentially Private Algorithms & $(\\epsilon, \\delta)$-differential privacy"
   ]
  },
  {
   "cell_type": "markdown",
   "metadata": {},
   "source": [
    "## Instructions\n",
    "\n",
    "Before you start, download the example dataset and ensure that all cells in this notebook execute without error. If you have trouble getting the notebook to run, please post a question on Piazza.\n",
    "\n",
    "To ensure that the notebook runs, I've defined a function `your_code_here()` that simply returns the number `1`. Whenever you see a call to this function, you should replace it with code you have written. Please make sure all cells of your notebook run without error before submitting the assignment. If you have not completed all the questions, leave calls to `your_code_here()` in place or insert dummy values so that the cell does not throw an error when it runs.\n",
    "\n",
    "To help you arrive at the correct solution, I have left the value computed by my solution in the uploaded version of this notebook. You can refer to these example results by viewing the notebook on Github. If you re-run the cell after downloading the notebook, the results will disappear (because the notebook no longer contains the code that generated them). Your solutions should produce results similar to the ones in the uploaded notebook.\n",
    "\n",
    "When answering non-code questions, feel free to use a comment, or put the cell in Markdown mode and use Markdown.\n",
    "\n",
    "The point value of each question is listed with the question, and these add up to 100 points. The assignment is due by 5:00pm on Friday, October 4. When you have finished your assignment, submit it via Gradescope under the assignment \"Homework 3.\" For questions on grading and submitting assignments, refer to the course webpage or email the instructor."
   ]
  },
  {
   "cell_type": "markdown",
   "metadata": {},
   "source": [
    "## Begin preamble ========================"
   ]
  },
  {
   "cell_type": "code",
   "execution_count": 1,
   "metadata": {},
   "outputs": [],
   "source": [
    "%matplotlib inline\n",
    "import matplotlib.pyplot as plt\n",
    "plt.style.use('seaborn-whitegrid')\n",
    "import pandas as pd\n",
    "import numpy as np\n",
    "adult_data = pd.read_csv(\"adult_with_pii.csv\")\n",
    "adult_data['DOB'] = pd.to_datetime(adult_data['DOB'], errors='coerce')\n",
    "\n",
    "# Some useful utilities\n",
    "\n",
    "def laplace_mech(v, sensitivity, epsilon):\n",
    "    return v + np.random.laplace(loc=0, scale=sensitivity / epsilon)\n",
    "\n",
    "def gaussian_mech(v, sensitivity, epsilon, delta):\n",
    "    return v + np.random.normal(loc=0, scale=sensitivity * np.sqrt(2*np.log(1.25/delta)) / epsilon)\n",
    "\n",
    "def pct_error(orig, priv):\n",
    "    return np.abs(orig - priv)/orig * 100.0\n",
    "\n",
    "def your_code_here():\n",
    "    return 1"
   ]
  },
  {
   "cell_type": "markdown",
   "metadata": {},
   "source": [
    "## End preamble ======================="
   ]
  },
  {
   "cell_type": "markdown",
   "metadata": {},
   "source": [
    "## Part 1: Clipping"
   ]
  },
  {
   "cell_type": "markdown",
   "metadata": {},
   "source": [
    "### Question 1 (5 points)\n",
    "\n",
    "Define a function `z_clip` that clips elements of its input to lie below `b`. You may assume that no input will be less than 0.\n",
    "\n",
    "*Hint*: for each element of `xs`, `z_clip` should return the minimum of the element and `b`."
   ]
  },
  {
   "cell_type": "code",
   "execution_count": 13,
   "metadata": {},
   "outputs": [],
   "source": [
    "def z_clip(xs, b):\n",
    "    return [your_code_here()]"
   ]
  },
  {
   "cell_type": "markdown",
   "metadata": {},
   "source": [
    "### Question 2 (5 points)\n",
    "\n",
    "Write code to (1) clip the values of the `Capital Gain` column of the dataset, and (2) compute the average of the clipped values. Run your code for various values of the clipping parameter `b`.\n",
    "\n",
    "*Hint*: you can use `np.sum()` to sum up the values in a single column of a dataframe."
   ]
  },
  {
   "cell_type": "code",
   "execution_count": 14,
   "metadata": {},
   "outputs": [
    {
     "name": "stdout",
     "output_type": "stream",
     "text": [
      "('b', 'answer')\n",
      "1 0.08328982525106723\n",
      "10001 526.5809096772213\n",
      "20001 672.8438930008292\n",
      "30001 734.5153404379472\n",
      "40001 784.5896624796536\n",
      "50001 833.5014895119929\n",
      "60001 882.3329136083045\n",
      "70001 931.164337704616\n",
      "80001 979.9957618009275\n",
      "90001 1028.8271858972391\n",
      "100001 1077.6488437087312\n",
      "110001 1077.6488437087312\n",
      "120001 1077.6488437087312\n",
      "130001 1077.6488437087312\n",
      "140001 1077.6488437087312\n",
      "150001 1077.6488437087312\n",
      "160001 1077.6488437087312\n",
      "170001 1077.6488437087312\n",
      "180001 1077.6488437087312\n",
      "190001 1077.6488437087312\n",
      "200001 1077.6488437087312\n",
      "210001 1077.6488437087312\n",
      "220001 1077.6488437087312\n",
      "230001 1077.6488437087312\n",
      "240001 1077.6488437087312\n",
      "250001 1077.6488437087312\n",
      "260001 1077.6488437087312\n",
      "270001 1077.6488437087312\n",
      "280001 1077.6488437087312\n",
      "290001 1077.6488437087312\n"
     ]
    }
   ],
   "source": [
    "cg = adult_data['Capital Gain']\n",
    "\n",
    "your_code_here()"
   ]
  },
  {
   "cell_type": "markdown",
   "metadata": {},
   "source": [
    "### Question 3 (5 points)\n",
    "\n",
    "Write code to return the differentially private average of `Capital Gain` parameterized by the clipping parameter `b`. Run your code for various values of `b` and use `pct_error` to determine the error introduced for each value of `b`."
   ]
  },
  {
   "cell_type": "code",
   "execution_count": 15,
   "metadata": {},
   "outputs": [
    {
     "name": "stdout",
     "output_type": "stream",
     "text": [
      "('b', 'answer', 'pct_error')\n",
      "1 0.08326811738227306 99.9922731678442\n",
      "10001 526.3415154994915 51.15834637857674\n",
      "20001 672.9656641845745 37.552416251980425\n",
      "30001 734.0327423055024 31.885720790148405\n",
      "40001 784.2049578475148 27.230009810183482\n",
      "50001 833.6171242226496 22.644827293299528\n",
      "60001 878.3341152566678 18.49533172291275\n",
      "70001 933.6952951515987 13.358112839588454\n",
      "80001 980.8392023935326 8.98341253557402\n",
      "90001 1026.5299367465825 4.743558837424521\n",
      "100001 1080.3952417722865 0.25485092658787867\n",
      "110001 1078.392572476058 0.06901401803273735\n",
      "120001 1074.5036004133585 0.2918616127817948\n",
      "130001 1072.1555967476174 0.5097436881395179\n",
      "140001 1083.123906462348 0.5080562917670285\n",
      "150001 1091.1127108548235 1.2493742488282513\n",
      "160001 1081.6149008908121 0.36802871410614013\n",
      "170001 1069.883923403446 0.7205427213712925\n",
      "180001 1088.9057303588315 1.0445783629628125\n",
      "190001 1065.8903767697982 1.0911223083083543\n",
      "200001 1074.9161783649658 0.25357660426385953\n",
      "210001 1076.4074671083608 0.11519305269220705\n",
      "220001 1081.775860598614 0.38296490679464623\n",
      "230001 1077.6419685106243 0.0006379813004014767\n",
      "240001 1088.217426582402 0.9807074851302133\n",
      "250001 1103.5584111250735 2.404268103436592\n",
      "260001 1056.7297455365117 1.9411794755169378\n",
      "270001 1077.6970498243695 0.004473267513786863\n",
      "280001 1062.8268762784062 1.3753986297906808\n",
      "290001 1096.4813621469586 1.7475561309392114\n"
     ]
    }
   ],
   "source": [
    "your_code_here()"
   ]
  },
  {
   "cell_type": "markdown",
   "metadata": {},
   "source": [
    "### Question 4 (5 points)\n",
    "\n",
    "In 5-10 sentences, answer the following:\n",
    "\n",
    "- In Question 2, at approximately what value of the clipping parameter `b` does the clipped average approach the original (un-clipped) average?\n",
    "- What is the sensitivity of the clipped average at this value of `b`, and why?\n",
    "- In Question 3, at approximately what value of the clipping parameter `b` is the error minimized?\n",
    "- Which seems to be more important for accuracy - the value of `b` or the scale of the noise added? Why?\n",
    "- Do you think the answer to the previous point will be true for every dataset? Why or why not?"
   ]
  },
  {
   "cell_type": "code",
   "execution_count": null,
   "metadata": {},
   "outputs": [],
   "source": []
  },
  {
   "cell_type": "markdown",
   "metadata": {},
   "source": [
    "### Question 5 (20 points)\n",
    "\n",
    "Write a function `auto_avg` that returns the differentially private average of an array of values `xs`. Your function should **automatically** determine the clipping parameter `b`, and should enforce differential privacy for a **total** privacy cost of `epsilon`."
   ]
  },
  {
   "cell_type": "code",
   "execution_count": 16,
   "metadata": {},
   "outputs": [
    {
     "name": "stdout",
     "output_type": "stream",
     "text": [
      "Avg is: 1078.67664087504 (selected clipping parameter 250001)\n"
     ]
    }
   ],
   "source": [
    "def auto_avg(xs, epsilon):\n",
    "    return your_code_here()\n",
    "\n",
    "auto_avg(cg, 1)"
   ]
  },
  {
   "cell_type": "markdown",
   "metadata": {},
   "source": [
    "### Question 6 (10 points)\n",
    "\n",
    "In 5-10 sentences, answer the following:\n",
    "- Summarize (1-2 sentences only) your approach in `auto_avg`.\n",
    "- Briefly argue that your implementation has privacy cost of `epsilon`.\n",
    "- How close is your function able to get to the \"best\" result you got in Question 3? What accounts for the difference?\n",
    "- Will your approach work well for **all** datasets? If not, describe a dataset for which it is likely to return very inaccurate results."
   ]
  },
  {
   "cell_type": "markdown",
   "metadata": {},
   "source": [
    "## Part 2: $(\\epsilon, \\delta)$-differential privacy\n",
    "\n",
    "### Question 7 (5 points)\n",
    "\n",
    "Consider the code below, which graphs the total privacy cost of an averaging attack under (1) sequential composition and (2) advanced composition, for values of `k` between 1 and 200."
   ]
  },
  {
   "cell_type": "code",
   "execution_count": 4,
   "metadata": {},
   "outputs": [
    {
     "data": {
      "image/png": "[encoded data removed]",
      "text/plain": [
       "<Figure size 432x288 with 1 Axes>"
      ]
     },
     "metadata": {},
     "output_type": "display_data"
    }
   ],
   "source": [
    "epsilon = .1\n",
    "delta_p = 1e-5\n",
    "\n",
    "def query():\n",
    "    return len(adult_data[adult_data['Martial Status'] == 'Divorced'])\n",
    "\n",
    "def avg_attack(k):\n",
    "    return np.mean([laplace_mech(query(), 1, epsilon) for i in range(k)])\n",
    "    \n",
    "xs = range(1, 200)\n",
    "privacy_cost_sequential = [k * epsilon for k in xs]\n",
    "privacy_cost_advanced = [2 * epsilon * np.sqrt(2 * k * np.log(1/delta_p)) for k in xs]\n",
    "\n",
    "plt.plot(xs, privacy_cost_sequential);\n",
    "plt.plot(xs, privacy_cost_advanced);"
   ]
  },
  {
   "cell_type": "markdown",
   "metadata": {},
   "source": [
    "In 2-5 sentences, answer the following:\n",
    "- At approximately what point do the lines representing the two approaches cross? What does this mean about **which** composition technique should be used for an iterative algorithm?\n",
    "- The two lines represent **different** privacy costs for the **same** algorithm. How can both be correct?"
   ]
  },
  {
   "cell_type": "code",
   "execution_count": null,
   "metadata": {},
   "outputs": [],
   "source": []
  },
  {
   "cell_type": "markdown",
   "metadata": {},
   "source": [
    "### Question 8 (10 points)\n",
    "\n",
    "In the cell below, define a function that implements the vector version of the Laplace mechanism. An implementation that works for a single number is defined for reference as `laplace_mech` above."
   ]
  },
  {
   "cell_type": "code",
   "execution_count": 5,
   "metadata": {},
   "outputs": [],
   "source": [
    "def laplace_mech_vec(qs, sensitivity, epsilon):\n",
    "    return your_code_here()"
   ]
  },
  {
   "cell_type": "markdown",
   "metadata": {},
   "source": [
    "### Question 9 (10 points)\n",
    "\n",
    "In the cell below, define a function that implements the vector version of the Gaussian mechanism. An implementation that works for a single number is defined for reference as `gaussian_mech` above."
   ]
  },
  {
   "cell_type": "code",
   "execution_count": 6,
   "metadata": {},
   "outputs": [],
   "source": [
    "def gaussian_mech_vec(qs, sensitivity, epsilon, delta):\n",
    "    return your_code_here()"
   ]
  },
  {
   "cell_type": "markdown",
   "metadata": {},
   "source": [
    "### Question 10 (10 points)\n",
    "\n",
    "Consider the code below, which defines three average queries and runs them on `adult_data`, using the Laplace mechanism to provide differential privacy with $\\epsilon = 1$ for each query."
   ]
  },
  {
   "cell_type": "code",
   "execution_count": 7,
   "metadata": {},
   "outputs": [
    {
     "data": {
      "text/plain": [
       "[235.98968090660605, 1981.2278185559412, 38.58164675532078]"
      ]
     },
     "execution_count": 7,
     "metadata": {},
     "output_type": "execute_result"
    }
   ],
   "source": [
    "b_capgain = 3000\n",
    "b_year = 3000\n",
    "b_age = 3000\n",
    "\n",
    "epsilon = 1\n",
    "n = len(adult_data)\n",
    "\n",
    "def query1():\n",
    "    return np.sum(z_clip(adult_data['Capital Gain'], b_capgain))/n\n",
    "\n",
    "def query2():\n",
    "    return np.sum(z_clip(adult_data['DOB'].dt.year, b_year))/n\n",
    "\n",
    "def query3():\n",
    "    return np.sum(z_clip(adult_data['Age'], b_age))/n\n",
    "\n",
    "def my_query():\n",
    "    return [query1(), query2(), query3()]\n",
    "\n",
    "my_query()"
   ]
  },
  {
   "cell_type": "markdown",
   "metadata": {},
   "source": [
    "In 2-5 sentences, answer the following:\n",
    "- What is the $L_1$ sensitivity of `my_query`, and why?\n",
    "- What is the $L_2$ sensitivity of `my_query`, and why?"
   ]
  },
  {
   "cell_type": "code",
   "execution_count": null,
   "metadata": {},
   "outputs": [],
   "source": []
  },
  {
   "cell_type": "markdown",
   "metadata": {},
   "source": [
    "### Question 11 (5 points)\n",
    "\n",
    "In the cell below, write code to release the results of calling `my_query()` with differential privacy, without using sequential composition.\n",
    "\n",
    "*Hint*: use `laplace_mech_vec`, but be careful of sensitivity!"
   ]
  },
  {
   "cell_type": "code",
   "execution_count": 8,
   "metadata": {},
   "outputs": [
    {
     "data": {
      "text/plain": [
       "0.27640428733761246"
      ]
     },
     "metadata": {},
     "output_type": "display_data"
    },
    {
     "data": {
      "text/plain": [
       "[235.52194636854944, 1981.044367211257, 38.043169679787646]"
      ]
     },
     "execution_count": 8,
     "metadata": {},
     "output_type": "execute_result"
    }
   ],
   "source": [
    "your_code_here()"
   ]
  },
  {
   "cell_type": "markdown",
   "metadata": {},
   "source": [
    "### Question 12 (5 points)\n",
    "\n",
    "In 2-5 sentences, answer the following:\n",
    "- What is the total privacy cost of your answer to Question 11, and why? *Hint*: there should be *only* one call to the Laplace mechanism, and so sequential composition is not needed!"
   ]
  },
  {
   "cell_type": "code",
   "execution_count": null,
   "metadata": {},
   "outputs": [],
   "source": []
  },
  {
   "cell_type": "markdown",
   "metadata": {},
   "source": [
    "### Question 13 (5 points)\n",
    "\n",
    "In the cell below, write code to release the results of `my_query()` with differential privacy, but using the Gaussian mechanism.\n",
    "\n",
    "*Hint*: remember to use $L_2$ sensitivity"
   ]
  },
  {
   "cell_type": "code",
   "execution_count": 9,
   "metadata": {
    "scrolled": true
   },
   "outputs": [
    {
     "data": {
      "text/plain": [
       "0.15958208969953724"
      ]
     },
     "metadata": {},
     "output_type": "display_data"
    },
    {
     "data": {
      "text/plain": [
       "[234.93996645104335, 1980.9810984180806, 39.572915355485584]"
      ]
     },
     "execution_count": 9,
     "metadata": {},
     "output_type": "execute_result"
    }
   ],
   "source": [
    "your_code_here()"
   ]
  }
 ],
 "metadata": {
  "kernelspec": {
   "display_name": "Python 3",
   "language": "python",
   "name": "python3"
  },
  "language_info": {
   "codemirror_mode": {
    "name": "ipython",
    "version": 3
   },
   "file_extension": ".py",
   "mimetype": "text/x-python",
   "name": "python",
   "nbconvert_exporter": "python",
   "pygments_lexer": "ipython3",
   "version": "3.6.7"
  }
 },
 "nbformat": 4,
 "nbformat_minor": 2
}
