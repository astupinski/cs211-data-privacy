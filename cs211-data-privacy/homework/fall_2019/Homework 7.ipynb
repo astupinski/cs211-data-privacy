{
 "cells": [
  {
   "cell_type": "markdown",
   "metadata": {},
   "source": [
    "# CS295B F19: Homework 7\n",
    "## Local Differential Privacy and Synthetic Data"
   ]
  },
  {
   "cell_type": "markdown",
   "metadata": {},
   "source": [
    "## Instructions\n",
    "\n",
    "Before you start, download the example dataset and ensure that all cells in this notebook execute without error. If you have trouble getting the notebook to run, please post a question on Piazza.\n",
    "\n",
    "To ensure that the notebook runs, I've defined a function `your_code_here()` that simply returns the number `1`. Whenever you see a call to this function, you should replace it with code you have written. Please make sure all cells of your notebook run without error before submitting the assignment. If you have not completed all the questions, leave calls to `your_code_here()` in place or insert dummy values so that the cell does not throw an error when it runs.\n",
    "\n",
    "To help you arrive at the correct solution, I have left the value computed by my solution in the uploaded version of this notebook. You can refer to these example results by viewing the notebook on Github. If you re-run the cell after downloading the notebook, the results will disappear (because the notebook no longer contains the code that generated them). Your solutions should produce results similar to the ones in the uploaded notebook.\n",
    "\n",
    "When answering non-code questions, feel free to use a comment, or put the cell in Markdown mode and use Markdown.\n",
    "\n",
    "The assignment is due by 5:00pm on Friday, November 15. When you have finished your assignment, submit it via Gradescope under the assignment \"Homework 7.\" For questions on grading and submitting assignments, refer to the course webpage or email the instructor."
   ]
  },
  {
   "cell_type": "markdown",
   "metadata": {},
   "source": [
    "## Collaboration Statement\n",
    "\n",
    "In the cell below, write your collaboration statement. This statement should describe all collaborations, even high-level ones (e.g. \"I discussed my general approach for answering question 3 with Josh\"). High-level collaborations of this kind are allowed as long as they are described; copying of answers or code is not allowed."
   ]
  },
  {
   "cell_type": "code",
   "execution_count": 1,
   "metadata": {},
   "outputs": [],
   "source": [
    "# Write your collaboration statement here"
   ]
  },
  {
   "cell_type": "markdown",
   "metadata": {},
   "source": [
    "--------------------"
   ]
  },
  {
   "cell_type": "code",
   "execution_count": 66,
   "metadata": {},
   "outputs": [],
   "source": [
    "%matplotlib inline\n",
    "import matplotlib.pyplot as plt\n",
    "plt.style.use('seaborn-whitegrid')\n",
    "import pandas as pd\n",
    "import numpy as np\n",
    "\n",
    "# Some useful utilities\n",
    "\n",
    "def laplace_mech(v, sensitivity, epsilon):\n",
    "    return v + np.random.laplace(loc=0, scale=sensitivity / epsilon)\n",
    "\n",
    "def gaussian_mech(v, sensitivity, epsilon, delta):\n",
    "    return v + np.random.normal(loc=0, scale=sensitivity * np.sqrt(2*np.log(1.25/delta)) / epsilon)\n",
    "\n",
    "def pct_error(orig, priv):\n",
    "    return np.abs(orig - priv)/orig * 100.0\n",
    "\n",
    "def z_clip(xs, b):\n",
    "    return [min(x, b) for x in xs]\n",
    "\n",
    "def clip(xs, upper, lower):\n",
    "    return [max(min(x, upper), lower) for x in xs]\n",
    "\n",
    "def your_code_here():\n",
    "    return 1\n",
    "\n",
    "def test(msg, value, expected):\n",
    "    if value == expected:\n",
    "        print(f\"{msg}: {value}, as expected\")\n",
    "    else:\n",
    "        print(f\"{msg}: OH NO! Got {value}, but expected {expected}.\")"
   ]
  },
  {
   "cell_type": "code",
   "execution_count": 67,
   "metadata": {},
   "outputs": [],
   "source": [
    "adult_data = pd.read_csv(\"adult_with_pii.csv\", parse_dates=['DOB'])"
   ]
  },
  {
   "cell_type": "markdown",
   "metadata": {},
   "source": [
    "----------------"
   ]
  },
  {
   "cell_type": "markdown",
   "metadata": {},
   "source": [
    "## Question 1 (10 points)\n",
    "\n",
    "Implement a function `rand_resp_over_40` that uses randomized response to answer the question \"how many people have ages greater than 40?\" "
   ]
  },
  {
   "cell_type": "code",
   "execution_count": 68,
   "metadata": {},
   "outputs": [
    {
     "data": {
      "text/plain": [
       "13217.5"
      ]
     },
     "execution_count": 68,
     "metadata": {},
     "output_type": "execute_result"
    }
   ],
   "source": [
    "def aggregate_rr(responses):\n",
    "    fake_yesses = len(responses)/4\n",
    "    num_yesses = np.sum([1 if r else 0 for r in responses])\n",
    "    true_yesses = num_yesses - fake_yesses\n",
    "    rr_result = true_yesses*2\n",
    "    return rr_result\n",
    "\n",
    "def rand_resp_over_40(response):\n",
    "    return your_code_here()\n",
    "\n",
    "aggregate_rr([rand_resp_over_40(r) for r in adult_data['Age']])"
   ]
  },
  {
   "cell_type": "markdown",
   "metadata": {},
   "source": [
    "## Question 2 (30 points)\n",
    "\n",
    "Implement three functions which together use the unary encoding technique to provide a histogram of ages in the US Census dataset. Your solution should consider ages between 0 and 100, and each histogram bin should have a width of 5 years (i.e. a count for `0 <= age < 5`, `5 <= age < 10`, `10 <= age < 15`, and so on)."
   ]
  },
  {
   "cell_type": "code",
   "execution_count": 69,
   "metadata": {},
   "outputs": [
    {
     "name": "stdout",
     "output_type": "stream",
     "text": [
      "[1, 0, 0, 0, 0, 0, 0, 0, 0, 0, 0, 0, 0, 0, 0, 0, 0, 0, 0, 0]\n",
      "[1, 0, 0, 0, 0, 0, 0, 0, 0, 0, 0, 0, 0, 0, 0, 0, 0, 0, 0, 0]\n",
      "[0, 0, 1, 0, 0, 0, 0, 0, 0, 0, 0, 0, 0, 0, 0, 0, 0, 0, 0, 0]\n",
      "[0, 0, 0, 1, 0, 0, 0, 0, 0, 0, 0, 0, 0, 0, 0, 0, 0, 0, 0, 0]\n",
      "[0, 0, 0, 0, 1, 0, 0, 0, 0, 0, 0, 0, 0, 0, 0, 0, 0, 0, 0, 0]\n"
     ]
    }
   ],
   "source": [
    "def encode_unary_age(response):\n",
    "    return your_code_here()\n",
    "\n",
    "print(encode_unary_age(0))\n",
    "print(encode_unary_age(1))\n",
    "print(encode_unary_age(13))\n",
    "print(encode_unary_age(19))\n",
    "print(encode_unary_age(20))"
   ]
  },
  {
   "cell_type": "code",
   "execution_count": 70,
   "metadata": {},
   "outputs": [
    {
     "data": {
      "text/plain": [
       "[0, 1, 0, 0, 0, 0, 0, 0, 0, 0, 1, 0, 0, 0, 0, 1, 1, 0, 0, 0]"
      ]
     },
     "execution_count": 70,
     "metadata": {},
     "output_type": "execute_result"
    }
   ],
   "source": [
    "def perturb_unary_age(encoded_response):\n",
    "    return your_code_here()\n",
    "\n",
    "perturb_unary_age(encode_unary_age(19))"
   ]
  },
  {
   "cell_type": "code",
   "execution_count": 71,
   "metadata": {},
   "outputs": [],
   "source": [
    "def aggregate_unary_age(responses):\n",
    "    return your_code_here()"
   ]
  },
  {
   "cell_type": "code",
   "execution_count": 72,
   "metadata": {},
   "outputs": [
    {
     "name": "stdout",
     "output_type": "stream",
     "text": [
      "0 - 5: -72.5\n",
      "5 - 10: 153.5\n",
      "10 - 15: 5.5\n",
      "15 - 20: 1551.5\n",
      "20 - 25: 4155.5\n",
      "25 - 30: 4147.5\n",
      "30 - 35: 4421.5\n",
      "35 - 40: 4329.5\n",
      "40 - 45: 3825.5\n",
      "45 - 50: 3239.5\n",
      "50 - 55: 2305.5\n",
      "55 - 60: 2055.5\n",
      "60 - 65: 1661.5\n",
      "65 - 70: 881.5\n",
      "70 - 75: 397.5\n",
      "75 - 80: 89.5\n",
      "80 - 85: -34.5\n",
      "85 - 90: -106.5\n",
      "90 - 95: -70.5\n",
      "95 - 100: 175.5\n"
     ]
    },
    {
     "data": {
      "image/png": "[encoded data removed]",
      "text/plain": [
       "<matplotlib.figure.Figure at 0x1098f4ac8>"
      ]
     },
     "metadata": {},
     "output_type": "display_data"
    }
   ],
   "source": [
    "def print_response_unary_age(responses):\n",
    "    domain = range(0, 100, 5)\n",
    "    counts = aggregate_unary_age(responses)\n",
    "\n",
    "    for d, c in zip(domain, counts):\n",
    "        print('{} - {}: {}'.format(d, d+5, c))\n",
    "    \n",
    "    plt.bar(domain, counts, width=4);\n",
    "\n",
    "responses = [perturb_unary_age(encode_unary_age(r)) for r in adult_data['Age']]\n",
    "print_response_unary_age(responses)"
   ]
  },
  {
   "cell_type": "markdown",
   "metadata": {},
   "source": [
    "## Question 3 (30 points)\n",
    "\n",
    "Consider the `fnlwgt` column of our dataset. This column contains continuous data (not categorical data), with an interesting underlying distribution:"
   ]
  },
  {
   "cell_type": "code",
   "execution_count": 73,
   "metadata": {},
   "outputs": [
    {
     "data": {
      "image/png": "[encoded data removed]",
      "text/plain": [
       "<matplotlib.figure.Figure at 0x10c3ea908>"
      ]
     },
     "metadata": {},
     "output_type": "display_data"
    }
   ],
   "source": [
    "plt.hist(adult_data['fnlwgt'].clip(lower=0, upper=500000), bins=100);"
   ]
  },
  {
   "cell_type": "markdown",
   "metadata": {},
   "source": [
    "Write code to generate a synthetic representation of this data. Your representation should be a histogram over the range from 0 to 500,000, with a bin width of 5000. You can use the `range_query` function, defined below, to help generate the required counts."
   ]
  },
  {
   "cell_type": "code",
   "execution_count": 74,
   "metadata": {},
   "outputs": [],
   "source": [
    "def range_query(df, col, a, b):\n",
    "    return len(df[(df[col] >= a) & (df[col] < b)])"
   ]
  },
  {
   "cell_type": "code",
   "execution_count": 75,
   "metadata": {},
   "outputs": [
    {
     "data": {
      "image/png": "[encoded data removed]",
      "text/plain": [
       "<matplotlib.figure.Figure at 0x10c46aef0>"
      ]
     },
     "metadata": {},
     "output_type": "display_data"
    }
   ],
   "source": [
    "def gen_synthetic_data(epsilon):\n",
    "    bin_size = 5000\n",
    "    bins = range(0, 500000, bin_size)\n",
    "    return your_code_here()\n",
    "\n",
    "syn_data = gen_synthetic_data(1.0)"
   ]
  },
  {
   "cell_type": "markdown",
   "metadata": {},
   "source": [
    "## Question 4 (30 points)\n",
    "\n",
    "Using your synthetic data from the last question, generate tabular data with 5000 synthetic data points. Keep in mind that the `fnlwgt` column contains continuous data, and your synthetic tabular data should too."
   ]
  },
  {
   "cell_type": "code",
   "execution_count": 77,
   "metadata": {},
   "outputs": [
    {
     "data": {
      "image/png": "[encoded data removed]",
      "text/plain": [
       "<matplotlib.figure.Figure at 0x10b3176d8>"
      ]
     },
     "metadata": {},
     "output_type": "display_data"
    }
   ],
   "source": [
    "def gen_sample(syn_data):\n",
    "    bin_size = 5000\n",
    "    bins = range(0, 500000, bin_size)\n",
    "    return your_code_here()\n",
    "\n",
    "samples = [gen_sample(syn_data) for i in range(5000)]\n",
    "plt.hist(samples, bins=100);"
   ]
  }
 ],
 "metadata": {
  "kernelspec": {
   "display_name": "Python 3",
   "language": "python",
   "name": "python3"
  },
  "language_info": {
   "codemirror_mode": {
    "name": "ipython",
    "version": 3
   },
   "file_extension": ".py",
   "mimetype": "text/x-python",
   "name": "python",
   "nbconvert_exporter": "python",
   "pygments_lexer": "ipython3",
   "version": "3.6.7"
  }
 },
 "nbformat": 4,
 "nbformat_minor": 2
}
