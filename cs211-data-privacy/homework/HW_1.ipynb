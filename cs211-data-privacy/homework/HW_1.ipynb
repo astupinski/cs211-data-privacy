{
 "cells": [
  {
   "cell_type": "markdown",
   "metadata": {},
   "source": [
    "# CS211: Data Privacy\n",
    "## Homework 1"
   ]
  },
  {
   "cell_type": "code",
   "execution_count": 22,
   "metadata": {},
   "outputs": [],
   "source": [
    "# Load the data and libraries\n",
    "import pandas as pd\n",
    "import numpy as np\n",
    "\n",
    "adult = pd.read_csv('https://github.com/jnear/cs211-data-privacy/raw/master/homework/adult_with_pii.csv')\n",
    "adult_pii = adult[['Name', 'DOB', 'SSN', 'Zip', 'Age']]\n",
    "adult_deid = adult.drop(columns=['Name', 'SSN'])"
   ]
  },
  {
   "cell_type": "markdown",
   "metadata": {},
   "source": [
    "## Question 1 (20 points)\n",
    "\n",
    "Using the dataframes `adult_pii` and `adult_deid`, write code to conduct a linking attack to recover the names of as many individuals in `adult_deid` as possible. Your solution should be parameterized by the set of columns to use in the attack."
   ]
  },
  {
   "cell_type": "code",
   "execution_count": 23,
   "metadata": {
    "deletable": false,
    "nbgrader": {
     "cell_type": "code",
     "checksum": "104cae26868ad3192fa4559d42c5a9bc",
     "grade": false,
     "grade_id": "cell-e6389ceace711c32",
     "locked": false,
     "schema_version": 3,
     "solution": true,
     "task": false
    }
   },
   "outputs": [
    {
     "name": "stdout",
     "output_type": "stream",
     "text": [
      "0         Karrie Trusslove\n",
      "1         Brandise Tripony\n",
      "2            Brenn McNeely\n",
      "3              Dorry Poter\n",
      "4              Dick Honnan\n",
      "               ...        \n",
      "32558         Ardyce Golby\n",
      "32559        Jean O'Connor\n",
      "32560     Reuben Skrzynski\n",
      "32561          Caye Biddle\n",
      "32562    Hortense Hardesty\n",
      "Name: Name, Length: 32563, dtype: object\n"
     ]
    }
   ],
   "source": [
    "def linking_attack(cols):\n",
    "    return pd.merge(adult_pii, adult_deid, left_on=cols, right_on=cols)\n",
    "\n",
    "attack = linking_attack(['Zip', 'DOB'])\n",
    "print(attack[\"Name\"])"
   ]
  },
  {
   "cell_type": "code",
   "execution_count": 24,
   "metadata": {
    "deletable": false,
    "editable": false,
    "nbgrader": {
     "cell_type": "code",
     "checksum": "a76869307e0cddfa2304385041c0d3af",
     "grade": true,
     "grade_id": "cell-251b9f1c6f7b4630",
     "locked": true,
     "points": 20,
     "schema_version": 3,
     "solution": false,
     "task": false
    }
   },
   "outputs": [],
   "source": [
    "# TEST CASES for Question 1\n",
    "\n",
    "assert len(linking_attack(['Zip'])) == 43191\n",
    "assert len(linking_attack(['Zip', 'DOB'])) == 32563\n",
    "assert len(linking_attack(['Zip', 'Age'])) == 32755"
   ]
  },
  {
   "cell_type": "markdown",
   "metadata": {},
   "source": [
    "## Question 2 (5 points)\n",
    "\n",
    "How many individuals in this dataset are uniquely identified by their Zip code? How many are uniquely identified by their age?\n",
    "\n",
    "Hint: use [nunique](https://pandas.pydata.org/pandas-docs/stable/reference/api/pandas.Series.nunique.html)."
   ]
  },
  {
   "cell_type": "code",
   "execution_count": 25,
   "metadata": {
    "deletable": false,
    "nbgrader": {
     "cell_type": "code",
     "checksum": "9733ff7d940158fb81a39ca36af422e7",
     "grade": false,
     "grade_id": "cell-0e380ac68dd0c77e",
     "locked": false,
     "schema_version": 3,
     "solution": true,
     "task": false
    }
   },
   "outputs": [
    {
     "name": "stdout",
     "output_type": "stream",
     "text": [
      "identified by zip code: 27791\n",
      "identified by date of birth: 17309\n"
     ]
    }
   ],
   "source": [
    "def unique_zipcode():\n",
    "    return adult_deid[\"Zip\"].nunique()\n",
    "    \n",
    "\n",
    "def unique_dob():\n",
    "    return adult_deid[\"DOB\"].nunique()\n",
    "\n",
    "\n",
    "print(\"identified by zip code:\", unique_zipcode())\n",
    "print(\"identified by date of birth:\", unique_dob())"
   ]
  },
  {
   "cell_type": "code",
   "execution_count": 26,
   "metadata": {
    "deletable": false,
    "editable": false,
    "nbgrader": {
     "cell_type": "code",
     "checksum": "421e414115ab089d6098fe0ea29dcfa0",
     "grade": true,
     "grade_id": "cell-9b009427c61dbb2b",
     "locked": true,
     "points": 5,
     "schema_version": 3,
     "solution": false,
     "task": false
    }
   },
   "outputs": [],
   "source": [
    "# TEST CASES (INCOMPLETE) for Question 2\n",
    "\n",
    "assert unique_zipcode() > 0\n",
    "assert unique_dob() > 0\n"
   ]
  },
  {
   "cell_type": "markdown",
   "metadata": {},
   "source": [
    "## Question 3 (10 points)\n",
    "\n",
    "Write code to determine the `Education-Num` of the individual named Ardyce Golby by performing a differencing attack. Your code should *only* use aggregate data to find Ardyce's education number."
   ]
  },
  {
   "cell_type": "code",
   "execution_count": 27,
   "metadata": {
    "deletable": false,
    "nbgrader": {
     "cell_type": "code",
     "checksum": "8df97903495b1e9b1994064fef277bdd",
     "grade": false,
     "grade_id": "cell-ef28e136429ae8c2",
     "locked": false,
     "schema_version": 3,
     "solution": true,
     "task": false
    }
   },
   "outputs": [
    {
     "name": "stdout",
     "output_type": "stream",
     "text": [
      "12.0\n"
     ]
    }
   ],
   "source": [
    "def ardyce_education():\n",
    "    a1 = adult['Education-Num'].mean()\n",
    "    a2 = adult[adult['Name'] != 'Ardyce Golby']['Education-Num'].mean()\n",
    "    return a1*len(adult) - a2*(len(adult) - 1)\n",
    "\n",
    "ardyce_ed = ardyce_education()\n",
    "print(ardyce_ed)"
   ]
  },
  {
   "cell_type": "code",
   "execution_count": 28,
   "metadata": {
    "deletable": false,
    "editable": false,
    "nbgrader": {
     "cell_type": "code",
     "checksum": "8da4b59a750fee877ac13ca81e692791",
     "grade": true,
     "grade_id": "cell-d06fb722893a39a5",
     "locked": true,
     "points": 10,
     "schema_version": 3,
     "solution": false,
     "task": false
    }
   },
   "outputs": [],
   "source": [
    "# TEST CASE for Question 3\n",
    "assert ardyce_education() == 12"
   ]
  },
  {
   "cell_type": "code",
   "execution_count": null,
   "metadata": {},
   "outputs": [],
   "source": []
  }
 ],
 "metadata": {
  "kernelspec": {
   "display_name": "Python 3",
   "language": "python",
   "name": "python3"
  },
  "language_info": {
   "codemirror_mode": {
    "name": "ipython",
    "version": 3
   },
   "file_extension": ".py",
   "mimetype": "text/x-python",
   "name": "python",
   "nbconvert_exporter": "python",
   "pygments_lexer": "ipython3",
   "version": "3.7.4"
  }
 },
 "nbformat": 4,
 "nbformat_minor": 4
}
